{
 "cells": [
  {
   "cell_type": "markdown",
   "id": "ba159ed6",
   "metadata": {},
   "source": [
    "# Описание проекта"
   ]
  },
  {
   "cell_type": "markdown",
   "id": "357d3797",
   "metadata": {},
   "source": [
    "В нашем распоряжении имеются три датасета с тремя интернет-магазинам: мультикатегорийный магазин с посещаемостью более 8 млн сессий в месяц, магазин одежды, маленький магазин подарков. В них есть обезличенная история покупок клиентов за определенный период. Наша цель состоит в том, чтобы создать решение для предсказания, совершит ли покупатель повторную покупку в течение ближайших 30 дней.\n",
    "\n",
    "Для реализации проекта составим план действий.\n",
    "\n",
    "<font size=\"4\"><b>План:</b></font>\n",
    "1. Знакомство с датасетами.\n",
    "2. Создание фиксированных признаков.\n",
    "3. Создание последовательных признаков\n",
    "4. Создание и обучение модели.\n",
    "5. Тестирование модели.\n",
    "6. Вывод и рекомендации по проделанной работе.\n",
    "\n",
    "<font size=\"4\"><b>Цель проекта:</b></font>\n",
    "\n",
    "В данном проекте я буду реализовывать предсказание повторной покупки клиента через признаки клиентов и последовальные признаки. Для признаков клиентов я выбрал следующие признаки:\n",
    "- дата последнего заказа ('last_order');\n",
    "- минимальное количество дней между двумя последовательными заказами ('min_cons_dur');\n",
    "- среднее количество дней между всеми заказами клиента ('avg_cons_dur');\n",
    "- максимальное количество дней между двумя последовательными заказами ('max_cons_dur');\n",
    "- среднеквадратичное отклонение в днях между двумя последовательными заказами в единицу продукта ('avg_fluc'):\n",
    "- количество дней, прошедшее с первой покупки ('days_from_first');\n",
    "- количество дней, прошедшее с последней покупки ('days_from_last');\n",
    "- количество товаров в последнем заказе ('last_prod_am');\n",
    "- общее количество купленных товаров ('quantity_sum');\n",
    "- общее количество потраченных денег ('sum_order_value');\n",
    "- среднее количество денег, потраченных на один товар ('mean_order_value');\n",
    "- кластер покупателя, в зависимости от RFM анализа клиентов ('cluster').\n",
    "\n",
    "Для последовательных признаков выбрал следующие последовательности:\n",
    "- последовательности из суммарно потраченных денег за заказ ('total');\n",
    "- последовательность из разницы количества дней между заказами ('diff_days');\n",
    "- последовательность из разницы между датой покупки и последней даты для фиксации признаков ('last_order').\n",
    "\n",
    "Для обучения и предсказания воспользуемся рекуррентной нейронной сетью LSTM, позволяющей работать с признаками в виде последовательностей. "
   ]
  },
  {
   "cell_type": "markdown",
   "id": "56785b8b",
   "metadata": {},
   "source": [
    "## Знакомство датасетами"
   ]
  },
  {
   "cell_type": "markdown",
   "id": "cc2c9cfd",
   "metadata": {},
   "source": [
    "Импортируем все необходимые библиотеки."
   ]
  },
  {
   "cell_type": "code",
   "execution_count": 1,
   "id": "95b122b5",
   "metadata": {},
   "outputs": [],
   "source": [
    "import warnings\n",
    "warnings.filterwarnings('ignore')"
   ]
  },
  {
   "cell_type": "code",
   "execution_count": 2,
   "id": "cec5e6f4",
   "metadata": {},
   "outputs": [],
   "source": [
    "import pandas as pd\n",
    "from datetime import datetime, timedelta\n",
    "import matplotlib.pyplot as plt\n",
    "import numpy as np\n",
    "\n",
    "from sklearn.preprocessing import MinMaxScaler\n",
    "from sklearn.cluster import KMeans\n",
    "from sklearn.model_selection import train_test_split\n",
    "from sklearn.metrics import classification_report, roc_curve, roc_auc_score\n",
    "\n",
    "from keras.models import Model\n",
    "from keras.layers import LSTM, Dense, Masking, Input, Concatenate\n",
    "from keras.utils import pad_sequences, plot_model, set_random_seed"
   ]
  },
  {
   "cell_type": "code",
   "execution_count": 3,
   "id": "de585492",
   "metadata": {},
   "outputs": [],
   "source": [
    "MASK_VALUE = -1\n",
    "plt.style.use('ggplot')\n",
    "set_random_seed(7)\n",
    "np.random.seed(7)"
   ]
  },
  {
   "cell_type": "markdown",
   "id": "7d08ad89",
   "metadata": {},
   "source": [
    "Прочитаем датасеты."
   ]
  },
  {
   "cell_type": "code",
   "execution_count": 4,
   "id": "27d631d6",
   "metadata": {},
   "outputs": [],
   "source": [
    "apparel = pd.read_csv('apparel-purchases.csv')\n",
    "gifts = pd.read_csv('gifts-purchases.csv')\n",
    "marketplace = pd.read_csv('marketplace-purchases.csv')"
   ]
  },
  {
   "cell_type": "markdown",
   "id": "857c9dee",
   "metadata": {},
   "source": [
    "Просмотрим первые 5 строк и общую информацию датасета 'apparel'."
   ]
  },
  {
   "cell_type": "code",
   "execution_count": 5,
   "id": "d20b5bf4",
   "metadata": {},
   "outputs": [
    {
     "data": {
      "text/html": [
       "<div>\n",
       "<style scoped>\n",
       "    .dataframe tbody tr th:only-of-type {\n",
       "        vertical-align: middle;\n",
       "    }\n",
       "\n",
       "    .dataframe tbody tr th {\n",
       "        vertical-align: top;\n",
       "    }\n",
       "\n",
       "    .dataframe thead th {\n",
       "        text-align: right;\n",
       "    }\n",
       "</style>\n",
       "<table border=\"1\" class=\"dataframe\">\n",
       "  <thead>\n",
       "    <tr style=\"text-align: right;\">\n",
       "      <th></th>\n",
       "      <th>client_id</th>\n",
       "      <th>quantity</th>\n",
       "      <th>price</th>\n",
       "      <th>date</th>\n",
       "      <th>message_id</th>\n",
       "      <th>recommended_by</th>\n",
       "    </tr>\n",
       "  </thead>\n",
       "  <tbody>\n",
       "    <tr>\n",
       "      <th>0</th>\n",
       "      <td>1515915625468068833</td>\n",
       "      <td>1</td>\n",
       "      <td>3499.0</td>\n",
       "      <td>2023-09-08</td>\n",
       "      <td>1515915625468068833-13781-64fad81bece56</td>\n",
       "      <td>bulk_message</td>\n",
       "    </tr>\n",
       "    <tr>\n",
       "      <th>1</th>\n",
       "      <td>1515915625468068833</td>\n",
       "      <td>1</td>\n",
       "      <td>3499.0</td>\n",
       "      <td>2023-09-08</td>\n",
       "      <td>1515915625468068833-13781-64fad81bece56</td>\n",
       "      <td>bulk_message</td>\n",
       "    </tr>\n",
       "    <tr>\n",
       "      <th>2</th>\n",
       "      <td>1515915625468068833</td>\n",
       "      <td>1</td>\n",
       "      <td>3499.0</td>\n",
       "      <td>2023-09-08</td>\n",
       "      <td>1515915625468068833-13781-64fad81bece56</td>\n",
       "      <td>bulk_message</td>\n",
       "    </tr>\n",
       "    <tr>\n",
       "      <th>3</th>\n",
       "      <td>1515915625468068833</td>\n",
       "      <td>1</td>\n",
       "      <td>2450.0</td>\n",
       "      <td>2023-09-08</td>\n",
       "      <td>1515915625468068833-13781-64fad81bece56</td>\n",
       "      <td>bulk_message</td>\n",
       "    </tr>\n",
       "    <tr>\n",
       "      <th>4</th>\n",
       "      <td>1515915625468068833</td>\n",
       "      <td>1</td>\n",
       "      <td>2450.0</td>\n",
       "      <td>2023-09-08</td>\n",
       "      <td>1515915625468068833-13781-64fad81bece56</td>\n",
       "      <td>bulk_message</td>\n",
       "    </tr>\n",
       "  </tbody>\n",
       "</table>\n",
       "</div>"
      ],
      "text/plain": [
       "             client_id  quantity   price        date  \\\n",
       "0  1515915625468068833         1  3499.0  2023-09-08   \n",
       "1  1515915625468068833         1  3499.0  2023-09-08   \n",
       "2  1515915625468068833         1  3499.0  2023-09-08   \n",
       "3  1515915625468068833         1  2450.0  2023-09-08   \n",
       "4  1515915625468068833         1  2450.0  2023-09-08   \n",
       "\n",
       "                                message_id recommended_by  \n",
       "0  1515915625468068833-13781-64fad81bece56   bulk_message  \n",
       "1  1515915625468068833-13781-64fad81bece56   bulk_message  \n",
       "2  1515915625468068833-13781-64fad81bece56   bulk_message  \n",
       "3  1515915625468068833-13781-64fad81bece56   bulk_message  \n",
       "4  1515915625468068833-13781-64fad81bece56   bulk_message  "
      ]
     },
     "metadata": {},
     "output_type": "display_data"
    },
    {
     "name": "stdout",
     "output_type": "stream",
     "text": [
      "<class 'pandas.core.frame.DataFrame'>\n",
      "RangeIndex: 133104 entries, 0 to 133103\n",
      "Data columns (total 6 columns):\n",
      " #   Column          Non-Null Count   Dtype  \n",
      "---  ------          --------------   -----  \n",
      " 0   client_id       133104 non-null  int64  \n",
      " 1   quantity        133104 non-null  int64  \n",
      " 2   price           133104 non-null  float64\n",
      " 3   date            133104 non-null  object \n",
      " 4   message_id      133104 non-null  object \n",
      " 5   recommended_by  133104 non-null  object \n",
      "dtypes: float64(1), int64(2), object(3)\n",
      "memory usage: 6.1+ MB\n"
     ]
    }
   ],
   "source": [
    "display(apparel.head())\n",
    "apparel.info()"
   ]
  },
  {
   "cell_type": "markdown",
   "id": "9aac083a",
   "metadata": {},
   "source": [
    "Просмотрим первые 5 строк и общую информацию датасета 'gifts'."
   ]
  },
  {
   "cell_type": "code",
   "execution_count": 6,
   "id": "10692d63",
   "metadata": {},
   "outputs": [
    {
     "data": {
      "text/html": [
       "<div>\n",
       "<style scoped>\n",
       "    .dataframe tbody tr th:only-of-type {\n",
       "        vertical-align: middle;\n",
       "    }\n",
       "\n",
       "    .dataframe tbody tr th {\n",
       "        vertical-align: top;\n",
       "    }\n",
       "\n",
       "    .dataframe thead th {\n",
       "        text-align: right;\n",
       "    }\n",
       "</style>\n",
       "<table border=\"1\" class=\"dataframe\">\n",
       "  <thead>\n",
       "    <tr style=\"text-align: right;\">\n",
       "      <th></th>\n",
       "      <th>client_id</th>\n",
       "      <th>quantity</th>\n",
       "      <th>price</th>\n",
       "      <th>date</th>\n",
       "      <th>message_id</th>\n",
       "      <th>recommended_by</th>\n",
       "    </tr>\n",
       "  </thead>\n",
       "  <tbody>\n",
       "    <tr>\n",
       "      <th>0</th>\n",
       "      <td>1515915625803894158</td>\n",
       "      <td>1</td>\n",
       "      <td>8943.0</td>\n",
       "      <td>2023-10-11</td>\n",
       "      <td>1515915625935652010-16166-6525589bca68f</td>\n",
       "      <td>bulk_message</td>\n",
       "    </tr>\n",
       "    <tr>\n",
       "      <th>1</th>\n",
       "      <td>1515915625803894158</td>\n",
       "      <td>1</td>\n",
       "      <td>46369.0</td>\n",
       "      <td>2023-10-11</td>\n",
       "      <td>1515915625935652010-16166-6525589bca68f</td>\n",
       "      <td>bulk_message</td>\n",
       "    </tr>\n",
       "    <tr>\n",
       "      <th>2</th>\n",
       "      <td>1515915625803894158</td>\n",
       "      <td>1</td>\n",
       "      <td>4666.0</td>\n",
       "      <td>2023-10-11</td>\n",
       "      <td>1515915625935652010-16166-6525589bca68f</td>\n",
       "      <td>bulk_message</td>\n",
       "    </tr>\n",
       "    <tr>\n",
       "      <th>3</th>\n",
       "      <td>1515915625803894158</td>\n",
       "      <td>1</td>\n",
       "      <td>11963.0</td>\n",
       "      <td>2023-10-11</td>\n",
       "      <td>1515915625935652010-16166-6525589bca68f</td>\n",
       "      <td>bulk_message</td>\n",
       "    </tr>\n",
       "    <tr>\n",
       "      <th>4</th>\n",
       "      <td>1515915625803894158</td>\n",
       "      <td>1</td>\n",
       "      <td>13107.0</td>\n",
       "      <td>2023-10-11</td>\n",
       "      <td>1515915625935652010-16166-6525589bca68f</td>\n",
       "      <td>bulk_message</td>\n",
       "    </tr>\n",
       "  </tbody>\n",
       "</table>\n",
       "</div>"
      ],
      "text/plain": [
       "             client_id  quantity    price        date  \\\n",
       "0  1515915625803894158         1   8943.0  2023-10-11   \n",
       "1  1515915625803894158         1  46369.0  2023-10-11   \n",
       "2  1515915625803894158         1   4666.0  2023-10-11   \n",
       "3  1515915625803894158         1  11963.0  2023-10-11   \n",
       "4  1515915625803894158         1  13107.0  2023-10-11   \n",
       "\n",
       "                                message_id recommended_by  \n",
       "0  1515915625935652010-16166-6525589bca68f   bulk_message  \n",
       "1  1515915625935652010-16166-6525589bca68f   bulk_message  \n",
       "2  1515915625935652010-16166-6525589bca68f   bulk_message  \n",
       "3  1515915625935652010-16166-6525589bca68f   bulk_message  \n",
       "4  1515915625935652010-16166-6525589bca68f   bulk_message  "
      ]
     },
     "metadata": {},
     "output_type": "display_data"
    },
    {
     "name": "stdout",
     "output_type": "stream",
     "text": [
      "<class 'pandas.core.frame.DataFrame'>\n",
      "RangeIndex: 811 entries, 0 to 810\n",
      "Data columns (total 6 columns):\n",
      " #   Column          Non-Null Count  Dtype  \n",
      "---  ------          --------------  -----  \n",
      " 0   client_id       811 non-null    int64  \n",
      " 1   quantity        811 non-null    int64  \n",
      " 2   price           811 non-null    float64\n",
      " 3   date            811 non-null    object \n",
      " 4   message_id      811 non-null    object \n",
      " 5   recommended_by  811 non-null    object \n",
      "dtypes: float64(1), int64(2), object(3)\n",
      "memory usage: 38.1+ KB\n"
     ]
    }
   ],
   "source": [
    "display(gifts.head())\n",
    "gifts.info()"
   ]
  },
  {
   "cell_type": "markdown",
   "id": "f5194892",
   "metadata": {},
   "source": [
    "Просмотрим первые 5 строк и общую информацию датасета 'marketplace'."
   ]
  },
  {
   "cell_type": "code",
   "execution_count": 7,
   "id": "f004a43d",
   "metadata": {},
   "outputs": [
    {
     "data": {
      "text/html": [
       "<div>\n",
       "<style scoped>\n",
       "    .dataframe tbody tr th:only-of-type {\n",
       "        vertical-align: middle;\n",
       "    }\n",
       "\n",
       "    .dataframe tbody tr th {\n",
       "        vertical-align: top;\n",
       "    }\n",
       "\n",
       "    .dataframe thead th {\n",
       "        text-align: right;\n",
       "    }\n",
       "</style>\n",
       "<table border=\"1\" class=\"dataframe\">\n",
       "  <thead>\n",
       "    <tr style=\"text-align: right;\">\n",
       "      <th></th>\n",
       "      <th>client_id</th>\n",
       "      <th>quantity</th>\n",
       "      <th>price</th>\n",
       "      <th>message_id</th>\n",
       "      <th>created_at</th>\n",
       "      <th>date</th>\n",
       "    </tr>\n",
       "  </thead>\n",
       "  <tbody>\n",
       "    <tr>\n",
       "      <th>0</th>\n",
       "      <td>1515915625440944408</td>\n",
       "      <td>1</td>\n",
       "      <td>6298.0</td>\n",
       "      <td>1515915625440944408-1752-6450b79616277</td>\n",
       "      <td>2023-05-02</td>\n",
       "      <td>2023-05-02 08:49:57</td>\n",
       "    </tr>\n",
       "    <tr>\n",
       "      <th>1</th>\n",
       "      <td>1515915625440992498</td>\n",
       "      <td>1</td>\n",
       "      <td>7318.0</td>\n",
       "      <td>1515915625440992498-1818-646b35d089c98</td>\n",
       "      <td>2023-05-22</td>\n",
       "      <td>2023-05-22 13:52:13</td>\n",
       "    </tr>\n",
       "    <tr>\n",
       "      <th>2</th>\n",
       "      <td>1515915625441026424</td>\n",
       "      <td>1</td>\n",
       "      <td>65798.0</td>\n",
       "      <td>1515915625441026424-1802-64634e24a2cb9</td>\n",
       "      <td>2023-05-17</td>\n",
       "      <td>2023-05-17 11:21:04</td>\n",
       "    </tr>\n",
       "    <tr>\n",
       "      <th>3</th>\n",
       "      <td>1515915625441118180</td>\n",
       "      <td>1</td>\n",
       "      <td>5598.0</td>\n",
       "      <td>1515915625441118180-1820-646c9444ebf39</td>\n",
       "      <td>2023-05-23</td>\n",
       "      <td>2023-05-23 19:02:53</td>\n",
       "    </tr>\n",
       "    <tr>\n",
       "      <th>4</th>\n",
       "      <td>1515915625441124500</td>\n",
       "      <td>1</td>\n",
       "      <td>77998.0</td>\n",
       "      <td>1515915625441124500-1825-646ed5cf4d5ed</td>\n",
       "      <td>2023-05-25</td>\n",
       "      <td>2023-05-25 07:46:52</td>\n",
       "    </tr>\n",
       "  </tbody>\n",
       "</table>\n",
       "</div>"
      ],
      "text/plain": [
       "             client_id  quantity    price  \\\n",
       "0  1515915625440944408         1   6298.0   \n",
       "1  1515915625440992498         1   7318.0   \n",
       "2  1515915625441026424         1  65798.0   \n",
       "3  1515915625441118180         1   5598.0   \n",
       "4  1515915625441124500         1  77998.0   \n",
       "\n",
       "                               message_id  created_at                 date  \n",
       "0  1515915625440944408-1752-6450b79616277  2023-05-02  2023-05-02 08:49:57  \n",
       "1  1515915625440992498-1818-646b35d089c98  2023-05-22  2023-05-22 13:52:13  \n",
       "2  1515915625441026424-1802-64634e24a2cb9  2023-05-17  2023-05-17 11:21:04  \n",
       "3  1515915625441118180-1820-646c9444ebf39  2023-05-23  2023-05-23 19:02:53  \n",
       "4  1515915625441124500-1825-646ed5cf4d5ed  2023-05-25  2023-05-25 07:46:52  "
      ]
     },
     "metadata": {},
     "output_type": "display_data"
    },
    {
     "name": "stdout",
     "output_type": "stream",
     "text": [
      "<class 'pandas.core.frame.DataFrame'>\n",
      "RangeIndex: 48182 entries, 0 to 48181\n",
      "Data columns (total 6 columns):\n",
      " #   Column      Non-Null Count  Dtype  \n",
      "---  ------      --------------  -----  \n",
      " 0   client_id   48182 non-null  int64  \n",
      " 1   quantity    48182 non-null  int64  \n",
      " 2   price       48182 non-null  float64\n",
      " 3   message_id  48182 non-null  object \n",
      " 4   created_at  48182 non-null  object \n",
      " 5   date        48182 non-null  object \n",
      "dtypes: float64(1), int64(2), object(3)\n",
      "memory usage: 2.2+ MB\n"
     ]
    }
   ],
   "source": [
    "display(marketplace.head())\n",
    "marketplace.info()"
   ]
  },
  {
   "cell_type": "markdown",
   "id": "2a097694",
   "metadata": {},
   "source": [
    "Удалим ненужные признаки из датасетов, а также переименуем признак 'created_at' в признак 'date' в датасете 'marketplace'."
   ]
  },
  {
   "cell_type": "code",
   "execution_count": 8,
   "id": "f691f173",
   "metadata": {},
   "outputs": [],
   "source": [
    "apparel.drop(['recommended_by'], axis= 1 , inplace= True)\n",
    "\n",
    "gifts.drop(['recommended_by'], axis= 1 , inplace= True)\n",
    "\n",
    "marketplace.drop(['date'], axis= 1 , inplace= True)\n",
    "\n",
    "marketplace = marketplace.rename(columns={\"created_at\": \"date\"})"
   ]
  },
  {
   "cell_type": "markdown",
   "id": "ccfe3867",
   "metadata": {},
   "source": [
    "Проверим отсутствие общих значений признака 'client_id' в трех датасетах."
   ]
  },
  {
   "cell_type": "code",
   "execution_count": 9,
   "id": "1ab55b94",
   "metadata": {},
   "outputs": [
    {
     "name": "stdout",
     "output_type": "stream",
     "text": [
      "Количество общих значение признака 'clien_id' между датасетами 'apparel' и 'gifts': 0\n",
      "Количество общих значение признака 'clien_id' между датасетами 'gifts' и 'marketplace': 0\n",
      "Количество общих значение признака 'clien_id' между датасетами 'marketplace' и 'apparel': 0\n"
     ]
    }
   ],
   "source": [
    "print(\n",
    "    \"Количество общих значение признака 'clien_id' между датасетами 'apparel' и 'gifts':\",\n",
    "    len(apparel.loc[apparel[\"client_id\"].isin(gifts[\"client_id\"]), \"client_id\"]),\n",
    ")\n",
    "\n",
    "print(\n",
    "    \"Количество общих значение признака 'clien_id' между датасетами 'gifts' и 'marketplace':\",\n",
    "    len(gifts.loc[gifts[\"client_id\"].isin(marketplace[\"client_id\"]), \"client_id\"]),\n",
    ")\n",
    "\n",
    "print(\n",
    "    \"Количество общих значение признака 'clien_id' между датасетами 'marketplace' и 'apparel':\",\n",
    "    len(\n",
    "        marketplace.loc[\n",
    "            marketplace[\"client_id\"].isin(apparel[\"client_id\"]), \"client_id\"\n",
    "        ]\n",
    "    ),\n",
    ")\n"
   ]
  },
  {
   "cell_type": "markdown",
   "id": "36857488",
   "metadata": {},
   "source": [
    "Как можно заметить, общие значениея признака 'client_id' отсутствуют."
   ]
  },
  {
   "cell_type": "markdown",
   "id": "b47e9e6a",
   "metadata": {},
   "source": [
    "Объединим наши датасеты в один."
   ]
  },
  {
   "cell_type": "code",
   "execution_count": 10,
   "id": "9a927657",
   "metadata": {},
   "outputs": [],
   "source": [
    "df = pd.concat([apparel, gifts, marketplace])"
   ]
  },
  {
   "cell_type": "markdown",
   "id": "995ab572",
   "metadata": {},
   "source": [
    "Рассмотрим первые 5 строк датасета и общую информацию о нем."
   ]
  },
  {
   "cell_type": "code",
   "execution_count": 11,
   "id": "18e7f7ef",
   "metadata": {},
   "outputs": [
    {
     "data": {
      "text/html": [
       "<div>\n",
       "<style scoped>\n",
       "    .dataframe tbody tr th:only-of-type {\n",
       "        vertical-align: middle;\n",
       "    }\n",
       "\n",
       "    .dataframe tbody tr th {\n",
       "        vertical-align: top;\n",
       "    }\n",
       "\n",
       "    .dataframe thead th {\n",
       "        text-align: right;\n",
       "    }\n",
       "</style>\n",
       "<table border=\"1\" class=\"dataframe\">\n",
       "  <thead>\n",
       "    <tr style=\"text-align: right;\">\n",
       "      <th></th>\n",
       "      <th>client_id</th>\n",
       "      <th>quantity</th>\n",
       "      <th>price</th>\n",
       "      <th>date</th>\n",
       "      <th>message_id</th>\n",
       "    </tr>\n",
       "  </thead>\n",
       "  <tbody>\n",
       "    <tr>\n",
       "      <th>0</th>\n",
       "      <td>1515915625468068833</td>\n",
       "      <td>1</td>\n",
       "      <td>3499.0</td>\n",
       "      <td>2023-09-08</td>\n",
       "      <td>1515915625468068833-13781-64fad81bece56</td>\n",
       "    </tr>\n",
       "    <tr>\n",
       "      <th>1</th>\n",
       "      <td>1515915625468068833</td>\n",
       "      <td>1</td>\n",
       "      <td>3499.0</td>\n",
       "      <td>2023-09-08</td>\n",
       "      <td>1515915625468068833-13781-64fad81bece56</td>\n",
       "    </tr>\n",
       "    <tr>\n",
       "      <th>2</th>\n",
       "      <td>1515915625468068833</td>\n",
       "      <td>1</td>\n",
       "      <td>3499.0</td>\n",
       "      <td>2023-09-08</td>\n",
       "      <td>1515915625468068833-13781-64fad81bece56</td>\n",
       "    </tr>\n",
       "    <tr>\n",
       "      <th>3</th>\n",
       "      <td>1515915625468068833</td>\n",
       "      <td>1</td>\n",
       "      <td>2450.0</td>\n",
       "      <td>2023-09-08</td>\n",
       "      <td>1515915625468068833-13781-64fad81bece56</td>\n",
       "    </tr>\n",
       "    <tr>\n",
       "      <th>4</th>\n",
       "      <td>1515915625468068833</td>\n",
       "      <td>1</td>\n",
       "      <td>2450.0</td>\n",
       "      <td>2023-09-08</td>\n",
       "      <td>1515915625468068833-13781-64fad81bece56</td>\n",
       "    </tr>\n",
       "  </tbody>\n",
       "</table>\n",
       "</div>"
      ],
      "text/plain": [
       "             client_id  quantity   price        date  \\\n",
       "0  1515915625468068833         1  3499.0  2023-09-08   \n",
       "1  1515915625468068833         1  3499.0  2023-09-08   \n",
       "2  1515915625468068833         1  3499.0  2023-09-08   \n",
       "3  1515915625468068833         1  2450.0  2023-09-08   \n",
       "4  1515915625468068833         1  2450.0  2023-09-08   \n",
       "\n",
       "                                message_id  \n",
       "0  1515915625468068833-13781-64fad81bece56  \n",
       "1  1515915625468068833-13781-64fad81bece56  \n",
       "2  1515915625468068833-13781-64fad81bece56  \n",
       "3  1515915625468068833-13781-64fad81bece56  \n",
       "4  1515915625468068833-13781-64fad81bece56  "
      ]
     },
     "metadata": {},
     "output_type": "display_data"
    },
    {
     "name": "stdout",
     "output_type": "stream",
     "text": [
      "<class 'pandas.core.frame.DataFrame'>\n",
      "Int64Index: 182097 entries, 0 to 48181\n",
      "Data columns (total 5 columns):\n",
      " #   Column      Non-Null Count   Dtype  \n",
      "---  ------      --------------   -----  \n",
      " 0   client_id   182097 non-null  int64  \n",
      " 1   quantity    182097 non-null  int64  \n",
      " 2   price       182097 non-null  float64\n",
      " 3   date        182097 non-null  object \n",
      " 4   message_id  182097 non-null  object \n",
      "dtypes: float64(1), int64(2), object(2)\n",
      "memory usage: 8.3+ MB\n"
     ]
    }
   ],
   "source": [
    "display(df.head())\n",
    "df.info()"
   ]
  },
  {
   "cell_type": "markdown",
   "id": "5ef9dcde",
   "metadata": {},
   "source": [
    "Изменим тип данных в признаке 'date'."
   ]
  },
  {
   "cell_type": "code",
   "execution_count": 12,
   "id": "9e2b2d43",
   "metadata": {},
   "outputs": [],
   "source": [
    "df['date'] = pd.to_datetime(df['date'])"
   ]
  },
  {
   "cell_type": "markdown",
   "id": "26d76f5c",
   "metadata": {},
   "source": [
    "Определим минимальную дату во всех заказах."
   ]
  },
  {
   "cell_type": "code",
   "execution_count": 13,
   "id": "5c30b02c",
   "metadata": {},
   "outputs": [
    {
     "data": {
      "text/plain": [
       "Timestamp('2022-10-26 00:00:00')"
      ]
     },
     "execution_count": 13,
     "metadata": {},
     "output_type": "execute_result"
    }
   ],
   "source": [
    "date_start = df['date'].min()\n",
    "date_start"
   ]
  },
  {
   "cell_type": "markdown",
   "id": "469cec27",
   "metadata": {},
   "source": [
    "Определим максимальную дату во всех заказах."
   ]
  },
  {
   "cell_type": "code",
   "execution_count": 14,
   "id": "70557c83",
   "metadata": {},
   "outputs": [
    {
     "data": {
      "text/plain": [
       "Timestamp('2023-10-26 00:00:00')"
      ]
     },
     "execution_count": 14,
     "metadata": {},
     "output_type": "execute_result"
    }
   ],
   "source": [
    "date_end = df['date'].max()\n",
    "date_end"
   ]
  },
  {
   "cell_type": "markdown",
   "id": "866d5d7d",
   "metadata": {},
   "source": [
    "Так как нам нужно определить покупателя, который сделает заказ в следующих 30 дней, то создадим предельную дату, до которой можно делать заказы и на основе которых будем тренировать будущие модели."
   ]
  },
  {
   "cell_type": "code",
   "execution_count": 15,
   "id": "70a45c35",
   "metadata": {},
   "outputs": [
    {
     "data": {
      "text/plain": [
       "Timestamp('2023-09-26 00:00:00')"
      ]
     },
     "execution_count": 15,
     "metadata": {},
     "output_type": "execute_result"
    }
   ],
   "source": [
    "date_limit = df['date'].max() - timedelta(days=30)\n",
    "date_limit"
   ]
  },
  {
   "cell_type": "markdown",
   "id": "2f2e37ac",
   "metadata": {},
   "source": [
    "Разделим наш датасет на датасеты для формирования признаков и на датасет, в котором будет определяться таргет."
   ]
  },
  {
   "cell_type": "code",
   "execution_count": 16,
   "id": "e40b8196",
   "metadata": {},
   "outputs": [
    {
     "data": {
      "text/html": [
       "<div>\n",
       "<style scoped>\n",
       "    .dataframe tbody tr th:only-of-type {\n",
       "        vertical-align: middle;\n",
       "    }\n",
       "\n",
       "    .dataframe tbody tr th {\n",
       "        vertical-align: top;\n",
       "    }\n",
       "\n",
       "    .dataframe thead th {\n",
       "        text-align: right;\n",
       "    }\n",
       "</style>\n",
       "<table border=\"1\" class=\"dataframe\">\n",
       "  <thead>\n",
       "    <tr style=\"text-align: right;\">\n",
       "      <th></th>\n",
       "      <th>client_id</th>\n",
       "      <th>quantity</th>\n",
       "      <th>price</th>\n",
       "      <th>date</th>\n",
       "      <th>message_id</th>\n",
       "    </tr>\n",
       "  </thead>\n",
       "  <tbody>\n",
       "    <tr>\n",
       "      <th>0</th>\n",
       "      <td>1515915625468068833</td>\n",
       "      <td>1</td>\n",
       "      <td>3499.0</td>\n",
       "      <td>2023-09-08</td>\n",
       "      <td>1515915625468068833-13781-64fad81bece56</td>\n",
       "    </tr>\n",
       "    <tr>\n",
       "      <th>1</th>\n",
       "      <td>1515915625468068833</td>\n",
       "      <td>1</td>\n",
       "      <td>3499.0</td>\n",
       "      <td>2023-09-08</td>\n",
       "      <td>1515915625468068833-13781-64fad81bece56</td>\n",
       "    </tr>\n",
       "    <tr>\n",
       "      <th>2</th>\n",
       "      <td>1515915625468068833</td>\n",
       "      <td>1</td>\n",
       "      <td>3499.0</td>\n",
       "      <td>2023-09-08</td>\n",
       "      <td>1515915625468068833-13781-64fad81bece56</td>\n",
       "    </tr>\n",
       "    <tr>\n",
       "      <th>3</th>\n",
       "      <td>1515915625468068833</td>\n",
       "      <td>1</td>\n",
       "      <td>2450.0</td>\n",
       "      <td>2023-09-08</td>\n",
       "      <td>1515915625468068833-13781-64fad81bece56</td>\n",
       "    </tr>\n",
       "    <tr>\n",
       "      <th>4</th>\n",
       "      <td>1515915625468068833</td>\n",
       "      <td>1</td>\n",
       "      <td>2450.0</td>\n",
       "      <td>2023-09-08</td>\n",
       "      <td>1515915625468068833-13781-64fad81bece56</td>\n",
       "    </tr>\n",
       "  </tbody>\n",
       "</table>\n",
       "</div>"
      ],
      "text/plain": [
       "             client_id  quantity   price       date  \\\n",
       "0  1515915625468068833         1  3499.0 2023-09-08   \n",
       "1  1515915625468068833         1  3499.0 2023-09-08   \n",
       "2  1515915625468068833         1  3499.0 2023-09-08   \n",
       "3  1515915625468068833         1  2450.0 2023-09-08   \n",
       "4  1515915625468068833         1  2450.0 2023-09-08   \n",
       "\n",
       "                                message_id  \n",
       "0  1515915625468068833-13781-64fad81bece56  \n",
       "1  1515915625468068833-13781-64fad81bece56  \n",
       "2  1515915625468068833-13781-64fad81bece56  \n",
       "3  1515915625468068833-13781-64fad81bece56  \n",
       "4  1515915625468068833-13781-64fad81bece56  "
      ]
     },
     "metadata": {},
     "output_type": "display_data"
    },
    {
     "name": "stdout",
     "output_type": "stream",
     "text": [
      "<class 'pandas.core.frame.DataFrame'>\n",
      "Int64Index: 173595 entries, 0 to 48181\n",
      "Data columns (total 5 columns):\n",
      " #   Column      Non-Null Count   Dtype         \n",
      "---  ------      --------------   -----         \n",
      " 0   client_id   173595 non-null  int64         \n",
      " 1   quantity    173595 non-null  int64         \n",
      " 2   price       173595 non-null  float64       \n",
      " 3   date        173595 non-null  datetime64[ns]\n",
      " 4   message_id  173595 non-null  object        \n",
      "dtypes: datetime64[ns](1), float64(1), int64(2), object(1)\n",
      "memory usage: 7.9+ MB\n"
     ]
    }
   ],
   "source": [
    "df_features = df[df['date'] < date_limit]\n",
    "display(df_features.head())\n",
    "df_features.info()"
   ]
  },
  {
   "cell_type": "markdown",
   "id": "a88b1f47",
   "metadata": {},
   "source": [
    "Создадим датасет, который будем использовать для создания таргетов."
   ]
  },
  {
   "cell_type": "code",
   "execution_count": 17,
   "id": "b00a5a4d",
   "metadata": {},
   "outputs": [],
   "source": [
    "df_target = df.loc[df['date']>=date_limit, 'client_id'].unique()"
   ]
  },
  {
   "cell_type": "markdown",
   "id": "794e39ba",
   "metadata": {},
   "source": [
    "Отсортируем датасет для обучения моделей по возрастанию 'client_id' и 'date'."
   ]
  },
  {
   "cell_type": "code",
   "execution_count": 18,
   "id": "045efc8e",
   "metadata": {},
   "outputs": [],
   "source": [
    "df_features = df_features.sort_values(['client_id', 'date'], ascending=True)"
   ]
  },
  {
   "cell_type": "markdown",
   "id": "d89c2c7d",
   "metadata": {},
   "source": [
    "Создадим датасет с разницей дней между покупками."
   ]
  },
  {
   "cell_type": "code",
   "execution_count": 19,
   "id": "4e092ed4",
   "metadata": {},
   "outputs": [
    {
     "data": {
      "text/html": [
       "<div>\n",
       "<style scoped>\n",
       "    .dataframe tbody tr th:only-of-type {\n",
       "        vertical-align: middle;\n",
       "    }\n",
       "\n",
       "    .dataframe tbody tr th {\n",
       "        vertical-align: top;\n",
       "    }\n",
       "\n",
       "    .dataframe thead th {\n",
       "        text-align: right;\n",
       "    }\n",
       "</style>\n",
       "<table border=\"1\" class=\"dataframe\">\n",
       "  <thead>\n",
       "    <tr style=\"text-align: right;\">\n",
       "      <th></th>\n",
       "      <th>client_id</th>\n",
       "      <th>quantity</th>\n",
       "      <th>price</th>\n",
       "      <th>date</th>\n",
       "      <th>message_id</th>\n",
       "      <th>diff_days</th>\n",
       "    </tr>\n",
       "  </thead>\n",
       "  <tbody>\n",
       "    <tr>\n",
       "      <th>2644</th>\n",
       "      <td>1515915625440099873</td>\n",
       "      <td>1</td>\n",
       "      <td>31998.0</td>\n",
       "      <td>2023-07-16</td>\n",
       "      <td>1515915625440099873-1965-64abd07b9561d</td>\n",
       "      <td>0</td>\n",
       "    </tr>\n",
       "    <tr>\n",
       "      <th>25171</th>\n",
       "      <td>1515915625440099873</td>\n",
       "      <td>1</td>\n",
       "      <td>1218.0</td>\n",
       "      <td>2023-08-09</td>\n",
       "      <td>1515915625440099873-2021-64d219c458813</td>\n",
       "      <td>24</td>\n",
       "    </tr>\n",
       "    <tr>\n",
       "      <th>2396</th>\n",
       "      <td>1515915625440939402</td>\n",
       "      <td>1</td>\n",
       "      <td>75998.0</td>\n",
       "      <td>2023-01-30</td>\n",
       "      <td>1515915625440939402-1474-63d738fa8d5cc</td>\n",
       "      <td>0</td>\n",
       "    </tr>\n",
       "    <tr>\n",
       "      <th>434</th>\n",
       "      <td>1515915625440944408</td>\n",
       "      <td>1</td>\n",
       "      <td>882.0</td>\n",
       "      <td>2023-03-01</td>\n",
       "      <td>1515915625440944408-1587-63fef11f97d27</td>\n",
       "      <td>0</td>\n",
       "    </tr>\n",
       "    <tr>\n",
       "      <th>0</th>\n",
       "      <td>1515915625440944408</td>\n",
       "      <td>1</td>\n",
       "      <td>6298.0</td>\n",
       "      <td>2023-05-02</td>\n",
       "      <td>1515915625440944408-1752-6450b79616277</td>\n",
       "      <td>62</td>\n",
       "    </tr>\n",
       "  </tbody>\n",
       "</table>\n",
       "</div>"
      ],
      "text/plain": [
       "                 client_id  quantity    price       date  \\\n",
       "2644   1515915625440099873         1  31998.0 2023-07-16   \n",
       "25171  1515915625440099873         1   1218.0 2023-08-09   \n",
       "2396   1515915625440939402         1  75998.0 2023-01-30   \n",
       "434    1515915625440944408         1    882.0 2023-03-01   \n",
       "0      1515915625440944408         1   6298.0 2023-05-02   \n",
       "\n",
       "                                   message_id  diff_days  \n",
       "2644   1515915625440099873-1965-64abd07b9561d          0  \n",
       "25171  1515915625440099873-2021-64d219c458813         24  \n",
       "2396   1515915625440939402-1474-63d738fa8d5cc          0  \n",
       "434    1515915625440944408-1587-63fef11f97d27          0  \n",
       "0      1515915625440944408-1752-6450b79616277         62  "
      ]
     },
     "metadata": {},
     "output_type": "display_data"
    }
   ],
   "source": [
    "df_features['diff_days'] = df_features.groupby('client_id')['date'].transform('diff').dt.days.fillna(0).astype(int)\n",
    "display(df_features.head())"
   ]
  },
  {
   "cell_type": "code",
   "execution_count": 20,
   "id": "19dc8441",
   "metadata": {
    "scrolled": true
   },
   "outputs": [
    {
     "name": "stdout",
     "output_type": "stream",
     "text": [
      "<class 'pandas.core.frame.DataFrame'>\n",
      "Int64Index: 173595 entries, 2644 to 205\n",
      "Data columns (total 6 columns):\n",
      " #   Column      Non-Null Count   Dtype         \n",
      "---  ------      --------------   -----         \n",
      " 0   client_id   173595 non-null  int64         \n",
      " 1   quantity    173595 non-null  int64         \n",
      " 2   price       173595 non-null  float64       \n",
      " 3   date        173595 non-null  datetime64[ns]\n",
      " 4   message_id  173595 non-null  object        \n",
      " 5   diff_days   173595 non-null  int32         \n",
      "dtypes: datetime64[ns](1), float64(1), int32(1), int64(2), object(1)\n",
      "memory usage: 8.6+ MB\n"
     ]
    }
   ],
   "source": [
    "df_features.info()"
   ]
  },
  {
   "cell_type": "markdown",
   "id": "f24e8975",
   "metadata": {},
   "source": [
    "## Создание фиксированных признаков"
   ]
  },
  {
   "cell_type": "markdown",
   "id": "9b09df7d",
   "metadata": {},
   "source": [
    "Создадим новый датасет с агрегируемыми признаками."
   ]
  },
  {
   "cell_type": "code",
   "execution_count": 21,
   "id": "e765382d",
   "metadata": {},
   "outputs": [],
   "source": [
    "features_fix = pd.DataFrame()"
   ]
  },
  {
   "cell_type": "markdown",
   "id": "8e60eb31",
   "metadata": {},
   "source": [
    "Создадим признак с значением минимального количества дней между соседними заказами у каждого клиента."
   ]
  },
  {
   "cell_type": "code",
   "execution_count": 22,
   "id": "12b27f8d",
   "metadata": {},
   "outputs": [],
   "source": [
    "features_fix[\"min_cons_dur\"] = df_features.groupby(by='client_id')['diff_days'].agg('min')"
   ]
  },
  {
   "cell_type": "markdown",
   "id": "8bbf27b4",
   "metadata": {},
   "source": [
    "Создадим признак с значением среднего количества дней между соседними заказами у каждого клиента."
   ]
  },
  {
   "cell_type": "code",
   "execution_count": 23,
   "id": "f4c6e09e",
   "metadata": {},
   "outputs": [],
   "source": [
    "features_fix[\"avg_cons_dur\"] = df_features.groupby(by='client_id')['diff_days'].agg('mean').round(1)"
   ]
  },
  {
   "cell_type": "markdown",
   "id": "52256814",
   "metadata": {},
   "source": [
    "Создадим признак с значением максимального количествва дней между соседними заказами у каждого клиента."
   ]
  },
  {
   "cell_type": "code",
   "execution_count": 24,
   "id": "8151f5a2",
   "metadata": {},
   "outputs": [],
   "source": [
    "features_fix['max_cons_dur'] = df_features.groupby('client_id')['diff_days'].agg('max')"
   ]
  },
  {
   "cell_type": "markdown",
   "id": "6d5a784e",
   "metadata": {},
   "source": [
    "Создадим признак со значением среднеквадратичного отклонения в днях между последовательными заказами."
   ]
  },
  {
   "cell_type": "code",
   "execution_count": 25,
   "id": "04f2b095",
   "metadata": {},
   "outputs": [],
   "source": [
    "features_fix['avg_fluc']  = df_features.groupby('client_id').apply(lambda x: x.date.diff().std()).dt.days.fillna(0).astype(int)"
   ]
  },
  {
   "cell_type": "markdown",
   "id": "6e686995",
   "metadata": {},
   "source": [
    "Создадим признакми со значением количеcтва дней между первой и предельной даты покупки,  а также датой последней покупкой и предельной даты покупки."
   ]
  },
  {
   "cell_type": "code",
   "execution_count": 26,
   "id": "148a4c57",
   "metadata": {
    "scrolled": true
   },
   "outputs": [
    {
     "data": {
      "text/html": [
       "<div>\n",
       "<style scoped>\n",
       "    .dataframe tbody tr th:only-of-type {\n",
       "        vertical-align: middle;\n",
       "    }\n",
       "\n",
       "    .dataframe tbody tr th {\n",
       "        vertical-align: top;\n",
       "    }\n",
       "\n",
       "    .dataframe thead th {\n",
       "        text-align: right;\n",
       "    }\n",
       "</style>\n",
       "<table border=\"1\" class=\"dataframe\">\n",
       "  <thead>\n",
       "    <tr style=\"text-align: right;\">\n",
       "      <th></th>\n",
       "      <th>client_id</th>\n",
       "      <th>quantity</th>\n",
       "      <th>price</th>\n",
       "      <th>date</th>\n",
       "      <th>message_id</th>\n",
       "      <th>diff_days</th>\n",
       "      <th>last_order</th>\n",
       "    </tr>\n",
       "  </thead>\n",
       "  <tbody>\n",
       "    <tr>\n",
       "      <th>2644</th>\n",
       "      <td>1515915625440099873</td>\n",
       "      <td>1</td>\n",
       "      <td>31998.0</td>\n",
       "      <td>2023-07-16</td>\n",
       "      <td>1515915625440099873-1965-64abd07b9561d</td>\n",
       "      <td>0</td>\n",
       "      <td>72</td>\n",
       "    </tr>\n",
       "    <tr>\n",
       "      <th>25171</th>\n",
       "      <td>1515915625440099873</td>\n",
       "      <td>1</td>\n",
       "      <td>1218.0</td>\n",
       "      <td>2023-08-09</td>\n",
       "      <td>1515915625440099873-2021-64d219c458813</td>\n",
       "      <td>24</td>\n",
       "      <td>48</td>\n",
       "    </tr>\n",
       "    <tr>\n",
       "      <th>2396</th>\n",
       "      <td>1515915625440939402</td>\n",
       "      <td>1</td>\n",
       "      <td>75998.0</td>\n",
       "      <td>2023-01-30</td>\n",
       "      <td>1515915625440939402-1474-63d738fa8d5cc</td>\n",
       "      <td>0</td>\n",
       "      <td>239</td>\n",
       "    </tr>\n",
       "    <tr>\n",
       "      <th>434</th>\n",
       "      <td>1515915625440944408</td>\n",
       "      <td>1</td>\n",
       "      <td>882.0</td>\n",
       "      <td>2023-03-01</td>\n",
       "      <td>1515915625440944408-1587-63fef11f97d27</td>\n",
       "      <td>0</td>\n",
       "      <td>209</td>\n",
       "    </tr>\n",
       "    <tr>\n",
       "      <th>0</th>\n",
       "      <td>1515915625440944408</td>\n",
       "      <td>1</td>\n",
       "      <td>6298.0</td>\n",
       "      <td>2023-05-02</td>\n",
       "      <td>1515915625440944408-1752-6450b79616277</td>\n",
       "      <td>62</td>\n",
       "      <td>147</td>\n",
       "    </tr>\n",
       "  </tbody>\n",
       "</table>\n",
       "</div>"
      ],
      "text/plain": [
       "                 client_id  quantity    price       date  \\\n",
       "2644   1515915625440099873         1  31998.0 2023-07-16   \n",
       "25171  1515915625440099873         1   1218.0 2023-08-09   \n",
       "2396   1515915625440939402         1  75998.0 2023-01-30   \n",
       "434    1515915625440944408         1    882.0 2023-03-01   \n",
       "0      1515915625440944408         1   6298.0 2023-05-02   \n",
       "\n",
       "                                   message_id  diff_days  last_order  \n",
       "2644   1515915625440099873-1965-64abd07b9561d          0          72  \n",
       "25171  1515915625440099873-2021-64d219c458813         24          48  \n",
       "2396   1515915625440939402-1474-63d738fa8d5cc          0         239  \n",
       "434    1515915625440944408-1587-63fef11f97d27          0         209  \n",
       "0      1515915625440944408-1752-6450b79616277         62         147  "
      ]
     },
     "metadata": {},
     "output_type": "display_data"
    },
    {
     "data": {
      "text/html": [
       "<div>\n",
       "<style scoped>\n",
       "    .dataframe tbody tr th:only-of-type {\n",
       "        vertical-align: middle;\n",
       "    }\n",
       "\n",
       "    .dataframe tbody tr th {\n",
       "        vertical-align: top;\n",
       "    }\n",
       "\n",
       "    .dataframe thead th {\n",
       "        text-align: right;\n",
       "    }\n",
       "</style>\n",
       "<table border=\"1\" class=\"dataframe\">\n",
       "  <thead>\n",
       "    <tr style=\"text-align: right;\">\n",
       "      <th></th>\n",
       "      <th>min_cons_dur</th>\n",
       "      <th>avg_cons_dur</th>\n",
       "      <th>max_cons_dur</th>\n",
       "      <th>avg_fluc</th>\n",
       "      <th>days_from_last</th>\n",
       "      <th>days_from_first</th>\n",
       "    </tr>\n",
       "    <tr>\n",
       "      <th>client_id</th>\n",
       "      <th></th>\n",
       "      <th></th>\n",
       "      <th></th>\n",
       "      <th></th>\n",
       "      <th></th>\n",
       "      <th></th>\n",
       "    </tr>\n",
       "  </thead>\n",
       "  <tbody>\n",
       "    <tr>\n",
       "      <th>1515915625440099873</th>\n",
       "      <td>0</td>\n",
       "      <td>12.0</td>\n",
       "      <td>24</td>\n",
       "      <td>0</td>\n",
       "      <td>48</td>\n",
       "      <td>72</td>\n",
       "    </tr>\n",
       "    <tr>\n",
       "      <th>1515915625440939402</th>\n",
       "      <td>0</td>\n",
       "      <td>0.0</td>\n",
       "      <td>0</td>\n",
       "      <td>0</td>\n",
       "      <td>239</td>\n",
       "      <td>239</td>\n",
       "    </tr>\n",
       "    <tr>\n",
       "      <th>1515915625440944408</th>\n",
       "      <td>0</td>\n",
       "      <td>37.3</td>\n",
       "      <td>62</td>\n",
       "      <td>8</td>\n",
       "      <td>97</td>\n",
       "      <td>209</td>\n",
       "    </tr>\n",
       "    <tr>\n",
       "      <th>1515915625440947454</th>\n",
       "      <td>0</td>\n",
       "      <td>12.0</td>\n",
       "      <td>48</td>\n",
       "      <td>27</td>\n",
       "      <td>276</td>\n",
       "      <td>324</td>\n",
       "    </tr>\n",
       "    <tr>\n",
       "      <th>1515915625440952940</th>\n",
       "      <td>0</td>\n",
       "      <td>0.0</td>\n",
       "      <td>0</td>\n",
       "      <td>0</td>\n",
       "      <td>319</td>\n",
       "      <td>319</td>\n",
       "    </tr>\n",
       "  </tbody>\n",
       "</table>\n",
       "</div>"
      ],
      "text/plain": [
       "                     min_cons_dur  avg_cons_dur  max_cons_dur  avg_fluc  \\\n",
       "client_id                                                                 \n",
       "1515915625440099873             0          12.0            24         0   \n",
       "1515915625440939402             0           0.0             0         0   \n",
       "1515915625440944408             0          37.3            62         8   \n",
       "1515915625440947454             0          12.0            48        27   \n",
       "1515915625440952940             0           0.0             0         0   \n",
       "\n",
       "                     days_from_last  days_from_first  \n",
       "client_id                                             \n",
       "1515915625440099873              48               72  \n",
       "1515915625440939402             239              239  \n",
       "1515915625440944408              97              209  \n",
       "1515915625440947454             276              324  \n",
       "1515915625440952940             319              319  "
      ]
     },
     "metadata": {},
     "output_type": "display_data"
    }
   ],
   "source": [
    "df_features['last_order'] = (date_limit - df_features['date']).dt.days.fillna(0).astype(int)\n",
    "display(df_features.head())\n",
    "features_fix['days_from_last'] = df_features.groupby('client_id')['last_order'].agg('last')\n",
    "features_fix['days_from_first'] = df_features.groupby('client_id')['last_order'].agg('first')\n",
    "display(features_fix.head())"
   ]
  },
  {
   "cell_type": "markdown",
   "id": "2c31b9fc",
   "metadata": {},
   "source": [
    "Создадим признак со значением количества товара, приобретенное в последней покупке."
   ]
  },
  {
   "cell_type": "code",
   "execution_count": 27,
   "id": "7074d989",
   "metadata": {},
   "outputs": [],
   "source": [
    "features_fix['last_prod_am'] = df_features.groupby(['client_id'])['quantity'].agg('last')"
   ]
  },
  {
   "cell_type": "code",
   "execution_count": 28,
   "id": "f78cc1f5",
   "metadata": {},
   "outputs": [
    {
     "data": {
      "text/html": [
       "<div>\n",
       "<style scoped>\n",
       "    .dataframe tbody tr th:only-of-type {\n",
       "        vertical-align: middle;\n",
       "    }\n",
       "\n",
       "    .dataframe tbody tr th {\n",
       "        vertical-align: top;\n",
       "    }\n",
       "\n",
       "    .dataframe thead th {\n",
       "        text-align: right;\n",
       "    }\n",
       "</style>\n",
       "<table border=\"1\" class=\"dataframe\">\n",
       "  <thead>\n",
       "    <tr style=\"text-align: right;\">\n",
       "      <th></th>\n",
       "      <th>min_cons_dur</th>\n",
       "      <th>avg_cons_dur</th>\n",
       "      <th>max_cons_dur</th>\n",
       "      <th>avg_fluc</th>\n",
       "      <th>days_from_last</th>\n",
       "      <th>days_from_first</th>\n",
       "      <th>last_prod_am</th>\n",
       "    </tr>\n",
       "    <tr>\n",
       "      <th>client_id</th>\n",
       "      <th></th>\n",
       "      <th></th>\n",
       "      <th></th>\n",
       "      <th></th>\n",
       "      <th></th>\n",
       "      <th></th>\n",
       "      <th></th>\n",
       "    </tr>\n",
       "  </thead>\n",
       "  <tbody>\n",
       "    <tr>\n",
       "      <th>1515915625440099873</th>\n",
       "      <td>0</td>\n",
       "      <td>12.0</td>\n",
       "      <td>24</td>\n",
       "      <td>0</td>\n",
       "      <td>48</td>\n",
       "      <td>72</td>\n",
       "      <td>1</td>\n",
       "    </tr>\n",
       "    <tr>\n",
       "      <th>1515915625440939402</th>\n",
       "      <td>0</td>\n",
       "      <td>0.0</td>\n",
       "      <td>0</td>\n",
       "      <td>0</td>\n",
       "      <td>239</td>\n",
       "      <td>239</td>\n",
       "      <td>1</td>\n",
       "    </tr>\n",
       "    <tr>\n",
       "      <th>1515915625440944408</th>\n",
       "      <td>0</td>\n",
       "      <td>37.3</td>\n",
       "      <td>62</td>\n",
       "      <td>8</td>\n",
       "      <td>97</td>\n",
       "      <td>209</td>\n",
       "      <td>1</td>\n",
       "    </tr>\n",
       "    <tr>\n",
       "      <th>1515915625440947454</th>\n",
       "      <td>0</td>\n",
       "      <td>12.0</td>\n",
       "      <td>48</td>\n",
       "      <td>27</td>\n",
       "      <td>276</td>\n",
       "      <td>324</td>\n",
       "      <td>1</td>\n",
       "    </tr>\n",
       "    <tr>\n",
       "      <th>1515915625440952940</th>\n",
       "      <td>0</td>\n",
       "      <td>0.0</td>\n",
       "      <td>0</td>\n",
       "      <td>0</td>\n",
       "      <td>319</td>\n",
       "      <td>319</td>\n",
       "      <td>1</td>\n",
       "    </tr>\n",
       "  </tbody>\n",
       "</table>\n",
       "</div>"
      ],
      "text/plain": [
       "                     min_cons_dur  avg_cons_dur  max_cons_dur  avg_fluc  \\\n",
       "client_id                                                                 \n",
       "1515915625440099873             0          12.0            24         0   \n",
       "1515915625440939402             0           0.0             0         0   \n",
       "1515915625440944408             0          37.3            62         8   \n",
       "1515915625440947454             0          12.0            48        27   \n",
       "1515915625440952940             0           0.0             0         0   \n",
       "\n",
       "                     days_from_last  days_from_first  last_prod_am  \n",
       "client_id                                                           \n",
       "1515915625440099873              48               72             1  \n",
       "1515915625440939402             239              239             1  \n",
       "1515915625440944408              97              209             1  \n",
       "1515915625440947454             276              324             1  \n",
       "1515915625440952940             319              319             1  "
      ]
     },
     "metadata": {},
     "output_type": "display_data"
    }
   ],
   "source": [
    "display(features_fix.head())"
   ]
  },
  {
   "cell_type": "markdown",
   "id": "62e06db0",
   "metadata": {},
   "source": [
    "Создадим признак со значением суммарного количества покупок для каждого клиента."
   ]
  },
  {
   "cell_type": "code",
   "execution_count": 29,
   "id": "23ef8c6b",
   "metadata": {},
   "outputs": [],
   "source": [
    "features_fix['quantity_sum'] = df_features.groupby(['client_id'])['quantity'].agg('sum')"
   ]
  },
  {
   "cell_type": "markdown",
   "id": "096ec37c",
   "metadata": {},
   "source": [
    "Создадим с суммарной суммой, потраченной каждым клиентом."
   ]
  },
  {
   "cell_type": "code",
   "execution_count": 30,
   "id": "797ccc68",
   "metadata": {},
   "outputs": [],
   "source": [
    "features_fix['sum_order_value'] = df_features.groupby(['client_id'])['price'].agg('sum')"
   ]
  },
  {
   "cell_type": "markdown",
   "id": "ae48938e",
   "metadata": {},
   "source": [
    "Рассмотрим обновленный датасет 'df_agg'."
   ]
  },
  {
   "cell_type": "code",
   "execution_count": 31,
   "id": "17be5adc",
   "metadata": {},
   "outputs": [
    {
     "data": {
      "text/html": [
       "<div>\n",
       "<style scoped>\n",
       "    .dataframe tbody tr th:only-of-type {\n",
       "        vertical-align: middle;\n",
       "    }\n",
       "\n",
       "    .dataframe tbody tr th {\n",
       "        vertical-align: top;\n",
       "    }\n",
       "\n",
       "    .dataframe thead th {\n",
       "        text-align: right;\n",
       "    }\n",
       "</style>\n",
       "<table border=\"1\" class=\"dataframe\">\n",
       "  <thead>\n",
       "    <tr style=\"text-align: right;\">\n",
       "      <th></th>\n",
       "      <th>min_cons_dur</th>\n",
       "      <th>avg_cons_dur</th>\n",
       "      <th>max_cons_dur</th>\n",
       "      <th>avg_fluc</th>\n",
       "      <th>days_from_last</th>\n",
       "      <th>days_from_first</th>\n",
       "      <th>last_prod_am</th>\n",
       "      <th>quantity_sum</th>\n",
       "      <th>sum_order_value</th>\n",
       "    </tr>\n",
       "    <tr>\n",
       "      <th>client_id</th>\n",
       "      <th></th>\n",
       "      <th></th>\n",
       "      <th></th>\n",
       "      <th></th>\n",
       "      <th></th>\n",
       "      <th></th>\n",
       "      <th></th>\n",
       "      <th></th>\n",
       "      <th></th>\n",
       "    </tr>\n",
       "  </thead>\n",
       "  <tbody>\n",
       "    <tr>\n",
       "      <th>1515915625440099873</th>\n",
       "      <td>0</td>\n",
       "      <td>12.0</td>\n",
       "      <td>24</td>\n",
       "      <td>0</td>\n",
       "      <td>48</td>\n",
       "      <td>72</td>\n",
       "      <td>1</td>\n",
       "      <td>2</td>\n",
       "      <td>33216.0</td>\n",
       "    </tr>\n",
       "    <tr>\n",
       "      <th>1515915625440939402</th>\n",
       "      <td>0</td>\n",
       "      <td>0.0</td>\n",
       "      <td>0</td>\n",
       "      <td>0</td>\n",
       "      <td>239</td>\n",
       "      <td>239</td>\n",
       "      <td>1</td>\n",
       "      <td>1</td>\n",
       "      <td>75998.0</td>\n",
       "    </tr>\n",
       "    <tr>\n",
       "      <th>1515915625440944408</th>\n",
       "      <td>0</td>\n",
       "      <td>37.3</td>\n",
       "      <td>62</td>\n",
       "      <td>8</td>\n",
       "      <td>97</td>\n",
       "      <td>209</td>\n",
       "      <td>1</td>\n",
       "      <td>3</td>\n",
       "      <td>81178.0</td>\n",
       "    </tr>\n",
       "    <tr>\n",
       "      <th>1515915625440947454</th>\n",
       "      <td>0</td>\n",
       "      <td>12.0</td>\n",
       "      <td>48</td>\n",
       "      <td>27</td>\n",
       "      <td>276</td>\n",
       "      <td>324</td>\n",
       "      <td>1</td>\n",
       "      <td>4</td>\n",
       "      <td>4486.0</td>\n",
       "    </tr>\n",
       "    <tr>\n",
       "      <th>1515915625440952940</th>\n",
       "      <td>0</td>\n",
       "      <td>0.0</td>\n",
       "      <td>0</td>\n",
       "      <td>0</td>\n",
       "      <td>319</td>\n",
       "      <td>319</td>\n",
       "      <td>1</td>\n",
       "      <td>1</td>\n",
       "      <td>479.0</td>\n",
       "    </tr>\n",
       "  </tbody>\n",
       "</table>\n",
       "</div>"
      ],
      "text/plain": [
       "                     min_cons_dur  avg_cons_dur  max_cons_dur  avg_fluc  \\\n",
       "client_id                                                                 \n",
       "1515915625440099873             0          12.0            24         0   \n",
       "1515915625440939402             0           0.0             0         0   \n",
       "1515915625440944408             0          37.3            62         8   \n",
       "1515915625440947454             0          12.0            48        27   \n",
       "1515915625440952940             0           0.0             0         0   \n",
       "\n",
       "                     days_from_last  days_from_first  last_prod_am  \\\n",
       "client_id                                                            \n",
       "1515915625440099873              48               72             1   \n",
       "1515915625440939402             239              239             1   \n",
       "1515915625440944408              97              209             1   \n",
       "1515915625440947454             276              324             1   \n",
       "1515915625440952940             319              319             1   \n",
       "\n",
       "                     quantity_sum  sum_order_value  \n",
       "client_id                                           \n",
       "1515915625440099873             2          33216.0  \n",
       "1515915625440939402             1          75998.0  \n",
       "1515915625440944408             3          81178.0  \n",
       "1515915625440947454             4           4486.0  \n",
       "1515915625440952940             1            479.0  "
      ]
     },
     "metadata": {},
     "output_type": "display_data"
    }
   ],
   "source": [
    "display(features_fix.head())"
   ]
  },
  {
   "cell_type": "markdown",
   "id": "012b8805",
   "metadata": {},
   "source": [
    "Создадим признак со значением средней суммы, потраченной на один товар, на каждого клиента."
   ]
  },
  {
   "cell_type": "code",
   "execution_count": 32,
   "id": "3fdcd85e",
   "metadata": {},
   "outputs": [],
   "source": [
    "features_fix['mean_order_value'] = (features_fix['sum_order_value'] / features_fix['quantity_sum']).round(1)"
   ]
  },
  {
   "cell_type": "markdown",
   "id": "2b4a49c2",
   "metadata": {},
   "source": [
    "Рассмотрим обновленный датасет."
   ]
  },
  {
   "cell_type": "code",
   "execution_count": 33,
   "id": "dd43ee4b",
   "metadata": {},
   "outputs": [
    {
     "data": {
      "text/html": [
       "<div>\n",
       "<style scoped>\n",
       "    .dataframe tbody tr th:only-of-type {\n",
       "        vertical-align: middle;\n",
       "    }\n",
       "\n",
       "    .dataframe tbody tr th {\n",
       "        vertical-align: top;\n",
       "    }\n",
       "\n",
       "    .dataframe thead th {\n",
       "        text-align: right;\n",
       "    }\n",
       "</style>\n",
       "<table border=\"1\" class=\"dataframe\">\n",
       "  <thead>\n",
       "    <tr style=\"text-align: right;\">\n",
       "      <th></th>\n",
       "      <th>min_cons_dur</th>\n",
       "      <th>avg_cons_dur</th>\n",
       "      <th>max_cons_dur</th>\n",
       "      <th>avg_fluc</th>\n",
       "      <th>days_from_last</th>\n",
       "      <th>days_from_first</th>\n",
       "      <th>last_prod_am</th>\n",
       "      <th>quantity_sum</th>\n",
       "      <th>sum_order_value</th>\n",
       "      <th>mean_order_value</th>\n",
       "    </tr>\n",
       "    <tr>\n",
       "      <th>client_id</th>\n",
       "      <th></th>\n",
       "      <th></th>\n",
       "      <th></th>\n",
       "      <th></th>\n",
       "      <th></th>\n",
       "      <th></th>\n",
       "      <th></th>\n",
       "      <th></th>\n",
       "      <th></th>\n",
       "      <th></th>\n",
       "    </tr>\n",
       "  </thead>\n",
       "  <tbody>\n",
       "    <tr>\n",
       "      <th>1515915625440099873</th>\n",
       "      <td>0</td>\n",
       "      <td>12.0</td>\n",
       "      <td>24</td>\n",
       "      <td>0</td>\n",
       "      <td>48</td>\n",
       "      <td>72</td>\n",
       "      <td>1</td>\n",
       "      <td>2</td>\n",
       "      <td>33216.0</td>\n",
       "      <td>16608.0</td>\n",
       "    </tr>\n",
       "    <tr>\n",
       "      <th>1515915625440939402</th>\n",
       "      <td>0</td>\n",
       "      <td>0.0</td>\n",
       "      <td>0</td>\n",
       "      <td>0</td>\n",
       "      <td>239</td>\n",
       "      <td>239</td>\n",
       "      <td>1</td>\n",
       "      <td>1</td>\n",
       "      <td>75998.0</td>\n",
       "      <td>75998.0</td>\n",
       "    </tr>\n",
       "    <tr>\n",
       "      <th>1515915625440944408</th>\n",
       "      <td>0</td>\n",
       "      <td>37.3</td>\n",
       "      <td>62</td>\n",
       "      <td>8</td>\n",
       "      <td>97</td>\n",
       "      <td>209</td>\n",
       "      <td>1</td>\n",
       "      <td>3</td>\n",
       "      <td>81178.0</td>\n",
       "      <td>27059.3</td>\n",
       "    </tr>\n",
       "    <tr>\n",
       "      <th>1515915625440947454</th>\n",
       "      <td>0</td>\n",
       "      <td>12.0</td>\n",
       "      <td>48</td>\n",
       "      <td>27</td>\n",
       "      <td>276</td>\n",
       "      <td>324</td>\n",
       "      <td>1</td>\n",
       "      <td>4</td>\n",
       "      <td>4486.0</td>\n",
       "      <td>1121.5</td>\n",
       "    </tr>\n",
       "    <tr>\n",
       "      <th>1515915625440952940</th>\n",
       "      <td>0</td>\n",
       "      <td>0.0</td>\n",
       "      <td>0</td>\n",
       "      <td>0</td>\n",
       "      <td>319</td>\n",
       "      <td>319</td>\n",
       "      <td>1</td>\n",
       "      <td>1</td>\n",
       "      <td>479.0</td>\n",
       "      <td>479.0</td>\n",
       "    </tr>\n",
       "  </tbody>\n",
       "</table>\n",
       "</div>"
      ],
      "text/plain": [
       "                     min_cons_dur  avg_cons_dur  max_cons_dur  avg_fluc  \\\n",
       "client_id                                                                 \n",
       "1515915625440099873             0          12.0            24         0   \n",
       "1515915625440939402             0           0.0             0         0   \n",
       "1515915625440944408             0          37.3            62         8   \n",
       "1515915625440947454             0          12.0            48        27   \n",
       "1515915625440952940             0           0.0             0         0   \n",
       "\n",
       "                     days_from_last  days_from_first  last_prod_am  \\\n",
       "client_id                                                            \n",
       "1515915625440099873              48               72             1   \n",
       "1515915625440939402             239              239             1   \n",
       "1515915625440944408              97              209             1   \n",
       "1515915625440947454             276              324             1   \n",
       "1515915625440952940             319              319             1   \n",
       "\n",
       "                     quantity_sum  sum_order_value  mean_order_value  \n",
       "client_id                                                             \n",
       "1515915625440099873             2          33216.0           16608.0  \n",
       "1515915625440939402             1          75998.0           75998.0  \n",
       "1515915625440944408             3          81178.0           27059.3  \n",
       "1515915625440947454             4           4486.0            1121.5  \n",
       "1515915625440952940             1            479.0             479.0  "
      ]
     },
     "metadata": {},
     "output_type": "display_data"
    }
   ],
   "source": [
    "display(features_fix.head())"
   ]
  },
  {
   "cell_type": "markdown",
   "id": "1d010137",
   "metadata": {},
   "source": [
    "Создадим признак 'total' со значением проивзедения количества товра на его стоимость."
   ]
  },
  {
   "cell_type": "code",
   "execution_count": 34,
   "id": "9ea7aa07",
   "metadata": {},
   "outputs": [],
   "source": [
    "df_features['total'] = df_features['quantity'] * df_features['price']"
   ]
  },
  {
   "cell_type": "markdown",
   "id": "ae96ea23",
   "metadata": {},
   "source": [
    "Для кластеризации покупателя проведем RFM анализ и создадим категориальный признак 'cluster'.\n",
    "\n",
    "В RFM анализе:\n",
    "\n",
    "Давность (R): Как недавно конкретный клиент совершил покупку?\n",
    "\n",
    "Частота (F): Как часто клиент совершает покупки?\n",
    "\n",
    "Потраченные деньги (M): Сколько денег клиент тратят?"
   ]
  },
  {
   "cell_type": "code",
   "execution_count": 35,
   "id": "3024ad4f",
   "metadata": {},
   "outputs": [
    {
     "data": {
      "text/html": [
       "<div>\n",
       "<style scoped>\n",
       "    .dataframe tbody tr th:only-of-type {\n",
       "        vertical-align: middle;\n",
       "    }\n",
       "\n",
       "    .dataframe tbody tr th {\n",
       "        vertical-align: top;\n",
       "    }\n",
       "\n",
       "    .dataframe thead th {\n",
       "        text-align: right;\n",
       "    }\n",
       "</style>\n",
       "<table border=\"1\" class=\"dataframe\">\n",
       "  <thead>\n",
       "    <tr style=\"text-align: right;\">\n",
       "      <th></th>\n",
       "      <th>recency</th>\n",
       "      <th>frequency</th>\n",
       "      <th>monetary_value</th>\n",
       "    </tr>\n",
       "    <tr>\n",
       "      <th>client_id</th>\n",
       "      <th></th>\n",
       "      <th></th>\n",
       "      <th></th>\n",
       "    </tr>\n",
       "  </thead>\n",
       "  <tbody>\n",
       "    <tr>\n",
       "      <th>1515915625440099873</th>\n",
       "      <td>48</td>\n",
       "      <td>2</td>\n",
       "      <td>33216.0</td>\n",
       "    </tr>\n",
       "    <tr>\n",
       "      <th>1515915625440939402</th>\n",
       "      <td>239</td>\n",
       "      <td>1</td>\n",
       "      <td>75998.0</td>\n",
       "    </tr>\n",
       "    <tr>\n",
       "      <th>1515915625440944408</th>\n",
       "      <td>97</td>\n",
       "      <td>3</td>\n",
       "      <td>81178.0</td>\n",
       "    </tr>\n",
       "    <tr>\n",
       "      <th>1515915625440947454</th>\n",
       "      <td>276</td>\n",
       "      <td>2</td>\n",
       "      <td>4486.0</td>\n",
       "    </tr>\n",
       "    <tr>\n",
       "      <th>1515915625440952940</th>\n",
       "      <td>319</td>\n",
       "      <td>1</td>\n",
       "      <td>479.0</td>\n",
       "    </tr>\n",
       "  </tbody>\n",
       "</table>\n",
       "</div>"
      ],
      "text/plain": [
       "                     recency  frequency  monetary_value\n",
       "client_id                                              \n",
       "1515915625440099873       48          2         33216.0\n",
       "1515915625440939402      239          1         75998.0\n",
       "1515915625440944408       97          3         81178.0\n",
       "1515915625440947454      276          2          4486.0\n",
       "1515915625440952940      319          1           479.0"
      ]
     },
     "metadata": {},
     "output_type": "display_data"
    }
   ],
   "source": [
    "rfm = df_features.groupby(\"client_id\").agg(\n",
    "    {\n",
    "        \"date\": lambda x: (date_limit - x.max()).days,\n",
    "        \"message_id\": \"nunique\",\n",
    "        \"total\": \"sum\",\n",
    "    }\n",
    ")\n",
    "rfm.rename(\n",
    "    columns={\"date\": \"recency\", \"message_id\": \"frequency\", \"total\": \"monetary_value\"},\n",
    "    inplace=True,\n",
    ")\n",
    "display(rfm.head())\n"
   ]
  },
  {
   "cell_type": "markdown",
   "id": "a5cd2839",
   "metadata": {},
   "source": [
    "Рассмотрим общую статистическую информацию о датасете 'rfm'."
   ]
  },
  {
   "cell_type": "code",
   "execution_count": 36,
   "id": "812f3357",
   "metadata": {
    "scrolled": true
   },
   "outputs": [
    {
     "data": {
      "text/html": [
       "<div>\n",
       "<style scoped>\n",
       "    .dataframe tbody tr th:only-of-type {\n",
       "        vertical-align: middle;\n",
       "    }\n",
       "\n",
       "    .dataframe tbody tr th {\n",
       "        vertical-align: top;\n",
       "    }\n",
       "\n",
       "    .dataframe thead th {\n",
       "        text-align: right;\n",
       "    }\n",
       "</style>\n",
       "<table border=\"1\" class=\"dataframe\">\n",
       "  <thead>\n",
       "    <tr style=\"text-align: right;\">\n",
       "      <th></th>\n",
       "      <th>recency</th>\n",
       "      <th>frequency</th>\n",
       "      <th>monetary_value</th>\n",
       "    </tr>\n",
       "  </thead>\n",
       "  <tbody>\n",
       "    <tr>\n",
       "      <th>count</th>\n",
       "      <td>44619.000000</td>\n",
       "      <td>44619.000000</td>\n",
       "      <td>4.461900e+04</td>\n",
       "    </tr>\n",
       "    <tr>\n",
       "      <th>mean</th>\n",
       "      <td>166.920706</td>\n",
       "      <td>1.173357</td>\n",
       "      <td>3.108600e+04</td>\n",
       "    </tr>\n",
       "    <tr>\n",
       "      <th>std</th>\n",
       "      <td>94.915114</td>\n",
       "      <td>0.732409</td>\n",
       "      <td>1.480062e+05</td>\n",
       "    </tr>\n",
       "    <tr>\n",
       "      <th>min</th>\n",
       "      <td>1.000000</td>\n",
       "      <td>1.000000</td>\n",
       "      <td>0.000000e+00</td>\n",
       "    </tr>\n",
       "    <tr>\n",
       "      <th>25%</th>\n",
       "      <td>95.000000</td>\n",
       "      <td>1.000000</td>\n",
       "      <td>1.999000e+03</td>\n",
       "    </tr>\n",
       "    <tr>\n",
       "      <th>50%</th>\n",
       "      <td>157.000000</td>\n",
       "      <td>1.000000</td>\n",
       "      <td>4.898000e+03</td>\n",
       "    </tr>\n",
       "    <tr>\n",
       "      <th>75%</th>\n",
       "      <td>256.000000</td>\n",
       "      <td>1.000000</td>\n",
       "      <td>1.799800e+04</td>\n",
       "    </tr>\n",
       "    <tr>\n",
       "      <th>max</th>\n",
       "      <td>335.000000</td>\n",
       "      <td>35.000000</td>\n",
       "      <td>1.730038e+07</td>\n",
       "    </tr>\n",
       "  </tbody>\n",
       "</table>\n",
       "</div>"
      ],
      "text/plain": [
       "            recency     frequency  monetary_value\n",
       "count  44619.000000  44619.000000    4.461900e+04\n",
       "mean     166.920706      1.173357    3.108600e+04\n",
       "std       94.915114      0.732409    1.480062e+05\n",
       "min        1.000000      1.000000    0.000000e+00\n",
       "25%       95.000000      1.000000    1.999000e+03\n",
       "50%      157.000000      1.000000    4.898000e+03\n",
       "75%      256.000000      1.000000    1.799800e+04\n",
       "max      335.000000     35.000000    1.730038e+07"
      ]
     },
     "execution_count": 36,
     "metadata": {},
     "output_type": "execute_result"
    }
   ],
   "source": [
    "rfm.describe()"
   ]
  },
  {
   "cell_type": "markdown",
   "id": "f76a481c",
   "metadata": {},
   "source": [
    "Теперь  сопоставим столбцы «recency», «frequency» и «monetary_value», чтобы они принимали значения в шкале от 1 до 5.\n",
    "По сути, мы назначим значения пяти различным ячейкам и сопоставим каждую ячейку со значением. Чтобы исправить границы интервала,  воспользуемся значениями квантилей столбцов «recency», «frequency» и «monetary_value»:"
   ]
  },
  {
   "cell_type": "code",
   "execution_count": 37,
   "id": "527259b9",
   "metadata": {},
   "outputs": [],
   "source": [
    "# вычислим пользовательские границы интервала для оценок \"давности\", \"частоты\" и \"потраченных денег\".\n",
    "recency_bins = [rfm['recency'].min()- 0, 90, 150, 250, 300, rfm['recency'].max()]\n",
    "frequency_bins = [rfm['frequency'].min() - 1, 0.9, 1.0, 1.1, 1.2, rfm['frequency'].max()]\n",
    "monetary_bins = [rfm['monetary_value'].min() - 0, 2000, 4900, 18000, 50000, rfm['monetary_value'].max()]"
   ]
  },
  {
   "cell_type": "markdown",
   "id": "20503382",
   "metadata": {},
   "source": [
    "Обратим внимание, что r_score, основанный на бинах, равен 1 для недавних покупок и 5 для покупок, совершенных более 300 дней назад. Изменим значение r_score так, чтобы самые последние покупки имели r_score, равный 5, а покупки, совершенные более 300 дней назад, имели r_score, равный 1."
   ]
  },
  {
   "cell_type": "code",
   "execution_count": 38,
   "id": "2912458b",
   "metadata": {},
   "outputs": [],
   "source": [
    "# рассчитаем показатель \"давности\" на основе пользовательских подборок\n",
    "rfm['r_score'] = pd.cut(rfm['recency'], bins=recency_bins, labels=range(1, 6), include_lowest=True)\n",
    "\n",
    "# поменяем местами показатели \"давности\", чтобы более высокие значения указывали на более недавние покупки.\n",
    "rfm['r_score'] = 5 - rfm['r_score'].astype(int) + 1\n",
    "\n",
    "# рассчитаем \"частоту\" и \"потраченные деньги\" на основе пользовательских подборок\n",
    "rfm['f_score'] = pd.cut(rfm['frequency'], bins=frequency_bins, labels=range(1, 6), include_lowest=True).astype(int)\n",
    "rfm['m_score'] = pd.cut(rfm['monetary_value'], bins=monetary_bins, labels=range(1, 6), include_lowest=True).astype(int)"
   ]
  },
  {
   "cell_type": "code",
   "execution_count": 39,
   "id": "d19039cc",
   "metadata": {},
   "outputs": [
    {
     "name": "stdout",
     "output_type": "stream",
     "text": [
      "                     r_score  f_score  m_score\n",
      "client_id                                     \n",
      "1515915625440099873        5        5        4\n",
      "1515915625440939402        3        2        5\n",
      "1515915625440944408        4        5        5\n",
      "1515915625440947454        2        5        2\n",
      "1515915625440952940        1        2        1\n"
     ]
    }
   ],
   "source": [
    "# отобразим первые несколько строк rfm датасета, чтобы проверить оценки\n",
    "print(rfm[['r_score', 'f_score', 'm_score']].head())"
   ]
  },
  {
   "cell_type": "markdown",
   "id": "d2616f63",
   "metadata": {},
   "source": [
    "Кластеризация K-Means чувствительна к масштабу объектов. Поскольку все значения R, F и M находятся в одном масштабе, мы можем приступить к кластеризации без дальнейшего масштабирования объектов.\n",
    "\n",
    "Извлечем оценки R, F и M, чтобы выполнить кластеризацию K-средних:"
   ]
  },
  {
   "cell_type": "code",
   "execution_count": 40,
   "id": "4f856114",
   "metadata": {},
   "outputs": [],
   "source": [
    "# извлекем оценки rfm для кластеризации K-средних\n",
    "X = rfm[['r_score', 'f_score', 'm_score']]"
   ]
  },
  {
   "cell_type": "markdown",
   "id": "cb43e5cd",
   "metadata": {},
   "source": [
    "Найдем оптимальное количество кластеров. Для этого запустим алгоритм K-Means для диапазона значений K и воспользуемся Elbow Curve, чтобы выбрать оптимальное значение K:"
   ]
  },
  {
   "cell_type": "code",
   "execution_count": 41,
   "id": "c2aa595c",
   "metadata": {},
   "outputs": [
    {
     "data": {
      "image/png": "[encoded data removed]",
      "text/plain": [
       "<Figure size 1200x900 with 1 Axes>"
      ]
     },
     "metadata": {},
     "output_type": "display_data"
    }
   ],
   "source": [
    "# рассчитаем инерцию (сумму квадратов расстояний) для разных значений k.\n",
    "inertia = []\n",
    "for k in range(2, 11):\n",
    "    kmeans = KMeans(n_clusters=k, n_init= 10, random_state=42)\n",
    "    kmeans.fit(X)\n",
    "    inertia.append(kmeans.inertia_)\n",
    "\n",
    "# график Elbow Curve\n",
    "plt.figure(figsize=(8, 6),dpi=150)\n",
    "plt.plot(range(2, 11), inertia, marker='o')\n",
    "plt.xlabel('Номер кластера (k)')\n",
    "plt.ylabel('Инерция')\n",
    "plt.title('Elbow Curve для кластеризации k-means')\n",
    "plt.grid(True)\n",
    "plt.show()"
   ]
  },
  {
   "cell_type": "markdown",
   "id": "4401de80",
   "metadata": {},
   "source": [
    "Как можно заметить кривая изгибается в 4 кластерах. Итак, давайте разделим клиентскую базу на четыре сегмента."
   ]
  },
  {
   "cell_type": "code",
   "execution_count": 42,
   "id": "d8d2f408",
   "metadata": {},
   "outputs": [],
   "source": [
    "# Выполним K-means кластеризация с k=4\n",
    "best_kmeans = KMeans(n_clusters=4, n_init=10, random_state=42)\n",
    "rfm['cluster'] = best_kmeans.fit_predict(X)"
   ]
  },
  {
   "cell_type": "markdown",
   "id": "93699465",
   "metadata": {},
   "source": [
    "Теперь, когда у нас есть кластеры, давайте попробуем охарактеризовать их на основе оценок RFM."
   ]
  },
  {
   "cell_type": "code",
   "execution_count": 43,
   "id": "c26e6bd4",
   "metadata": {},
   "outputs": [],
   "source": [
    "# сгруппируем по кластерам и рассчитывать средние значения\n",
    "cluster_summary = rfm.groupby('cluster').agg({\n",
    "    'r_score': 'mean',\n",
    "    'f_score': 'mean',\n",
    "    'm_score': 'mean'\n",
    "}).reset_index()"
   ]
  },
  {
   "cell_type": "markdown",
   "id": "789423b0",
   "metadata": {},
   "source": [
    "Средние баллы R, F и M для каждого кластера уже должны дать  представление о характеристиках."
   ]
  },
  {
   "cell_type": "code",
   "execution_count": 44,
   "id": "25b4af29",
   "metadata": {},
   "outputs": [
    {
     "data": {
      "text/html": [
       "<div>\n",
       "<style scoped>\n",
       "    .dataframe tbody tr th:only-of-type {\n",
       "        vertical-align: middle;\n",
       "    }\n",
       "\n",
       "    .dataframe tbody tr th {\n",
       "        vertical-align: top;\n",
       "    }\n",
       "\n",
       "    .dataframe thead th {\n",
       "        text-align: right;\n",
       "    }\n",
       "</style>\n",
       "<table border=\"1\" class=\"dataframe\">\n",
       "  <thead>\n",
       "    <tr style=\"text-align: right;\">\n",
       "      <th></th>\n",
       "      <th>cluster</th>\n",
       "      <th>r_score</th>\n",
       "      <th>f_score</th>\n",
       "      <th>m_score</th>\n",
       "    </tr>\n",
       "  </thead>\n",
       "  <tbody>\n",
       "    <tr>\n",
       "      <th>0</th>\n",
       "      <td>0</td>\n",
       "      <td>3.819506</td>\n",
       "      <td>2.00000</td>\n",
       "      <td>3.827831</td>\n",
       "    </tr>\n",
       "    <tr>\n",
       "      <th>1</th>\n",
       "      <td>1</td>\n",
       "      <td>1.476378</td>\n",
       "      <td>2.01268</td>\n",
       "      <td>2.276604</td>\n",
       "    </tr>\n",
       "    <tr>\n",
       "      <th>2</th>\n",
       "      <td>2</td>\n",
       "      <td>3.883730</td>\n",
       "      <td>5.00000</td>\n",
       "      <td>3.599878</td>\n",
       "    </tr>\n",
       "    <tr>\n",
       "      <th>3</th>\n",
       "      <td>3</td>\n",
       "      <td>3.974020</td>\n",
       "      <td>2.00000</td>\n",
       "      <td>1.481126</td>\n",
       "    </tr>\n",
       "  </tbody>\n",
       "</table>\n",
       "</div>"
      ],
      "text/plain": [
       "   cluster   r_score  f_score   m_score\n",
       "0        0  3.819506  2.00000  3.827831\n",
       "1        1  1.476378  2.01268  2.276604\n",
       "2        2  3.883730  5.00000  3.599878\n",
       "3        3  3.974020  2.00000  1.481126"
      ]
     },
     "metadata": {},
     "output_type": "display_data"
    }
   ],
   "source": [
    "display(cluster_summary)"
   ]
  },
  {
   "cell_type": "markdown",
   "id": "9a4d51aa",
   "metadata": {},
   "source": [
    "Визуализируем средние значения R, F и M для кластеров, чтобы их было легко интерпретировать."
   ]
  },
  {
   "cell_type": "code",
   "execution_count": 45,
   "id": "1cc4c843",
   "metadata": {},
   "outputs": [
    {
     "data": {
      "image/png": "[encoded data removed]",
      "text/plain": [
       "<Figure size 1500x1200 with 3 Axes>"
      ]
     },
     "metadata": {},
     "output_type": "display_data"
    }
   ],
   "source": [
    "colors = [\"#3498db\", \"#2ecc71\", \"#f39c12\", \"#C9B1BD\"]\n",
    "\n",
    "# Постройте средние значения RFM для каждого кластера\n",
    "plt.figure(figsize=(10, 8), dpi=150)\n",
    "\n",
    "# Пострим график средней \"давности\"\n",
    "plt.subplot(3, 1, 1)\n",
    "bars = plt.bar(cluster_summary.index, cluster_summary[\"r_score\"], color=colors)\n",
    "plt.xlabel(\"Кластер\")\n",
    "plt.ylabel(\"Средняя давность\")\n",
    "plt.title(\"Средняя давность для каждого кластера\")\n",
    "\n",
    "plt.grid(True, linestyle=\"--\", alpha=0.5)\n",
    "plt.legend(bars, cluster_summary.index, title=\"Clusters\")\n",
    "\n",
    "# Построим график средней \"частоты\"\n",
    "plt.subplot(3, 1, 2)\n",
    "bars = plt.bar(cluster_summary.index, cluster_summary[\"f_score\"], color=colors)\n",
    "plt.xlabel(\"Кластер\")\n",
    "plt.ylabel(\"Средняя частота\")\n",
    "plt.title(\"Средняя частота для каждго кластера\")\n",
    "plt.grid(True, linestyle=\"--\", alpha=0.5)\n",
    "plt.legend(bars, cluster_summary.index, title=\"Clusters\")\n",
    "\n",
    "# построим график средней \"потраченных денег\"\n",
    "plt.subplot(3, 1, 3)\n",
    "bars = plt.bar(cluster_summary.index, cluster_summary[\"m_score\"], color=colors)\n",
    "plt.xlabel(\"Кластер\")\n",
    "plt.ylabel(\"Средняя денежная стоимость\")\n",
    "plt.title(\"Средняя денежная стоимость для каждго кластера\")\n",
    "plt.grid(True, linestyle=\"--\", alpha=0.5)\n",
    "plt.legend(bars, cluster_summary.index, title=\"Clusters\")\n",
    "\n",
    "plt.tight_layout()\n",
    "plt.show()\n"
   ]
  },
  {
   "cell_type": "markdown",
   "id": "bfdf5b12",
   "metadata": {},
   "source": [
    "Как можно заметить из всех кластеров выделяется кластер номер 2. Данный кластер имеет стабильную высокую давность, частоту и потраченные деньги. Назовем этот кластер \"влиятельные покупатели\".\n",
    "\n",
    "Кластер с номером 0 С наивысшей давностью и денежной стоимостью имеют низкую частоту, скорее всего данный кластер описывает \"лояльного\" клиента. \n",
    "\n",
    "Кластер с номером 1 описывает недавних клиентов, так как данный кластер имеет низкую давность, низкую частоту и умеренную денежную стоимость. \n",
    "\n",
    "Кластер с номером 3 описывает клиентов из группа риска, так как это давние клиенты, имеющие низкую денежную стоимость, среднюю частоту и высокую давность."
   ]
  },
  {
   "cell_type": "markdown",
   "id": "0ed8f1e7",
   "metadata": {},
   "source": [
    "Добавим в наш датасет с постоянными признаками признак \"cluster\"."
   ]
  },
  {
   "cell_type": "code",
   "execution_count": 46,
   "id": "2d7d7758",
   "metadata": {},
   "outputs": [],
   "source": [
    "features_fix = features_fix.merge(rfm, left_on='client_id', right_on='client_id', how='inner')\n",
    "features_fix.drop(['recency', 'frequency', 'monetary_value', 'r_score', 'f_score', 'm_score'], axis= 1 , inplace= True)"
   ]
  },
  {
   "cell_type": "markdown",
   "id": "18c10a67",
   "metadata": {},
   "source": [
    "Рассмотрим новый датасет."
   ]
  },
  {
   "cell_type": "code",
   "execution_count": 47,
   "id": "1caba518",
   "metadata": {},
   "outputs": [
    {
     "data": {
      "text/html": [
       "<div>\n",
       "<style scoped>\n",
       "    .dataframe tbody tr th:only-of-type {\n",
       "        vertical-align: middle;\n",
       "    }\n",
       "\n",
       "    .dataframe tbody tr th {\n",
       "        vertical-align: top;\n",
       "    }\n",
       "\n",
       "    .dataframe thead th {\n",
       "        text-align: right;\n",
       "    }\n",
       "</style>\n",
       "<table border=\"1\" class=\"dataframe\">\n",
       "  <thead>\n",
       "    <tr style=\"text-align: right;\">\n",
       "      <th></th>\n",
       "      <th>min_cons_dur</th>\n",
       "      <th>avg_cons_dur</th>\n",
       "      <th>max_cons_dur</th>\n",
       "      <th>avg_fluc</th>\n",
       "      <th>days_from_last</th>\n",
       "      <th>days_from_first</th>\n",
       "      <th>last_prod_am</th>\n",
       "      <th>quantity_sum</th>\n",
       "      <th>sum_order_value</th>\n",
       "      <th>mean_order_value</th>\n",
       "      <th>cluster</th>\n",
       "    </tr>\n",
       "    <tr>\n",
       "      <th>client_id</th>\n",
       "      <th></th>\n",
       "      <th></th>\n",
       "      <th></th>\n",
       "      <th></th>\n",
       "      <th></th>\n",
       "      <th></th>\n",
       "      <th></th>\n",
       "      <th></th>\n",
       "      <th></th>\n",
       "      <th></th>\n",
       "      <th></th>\n",
       "    </tr>\n",
       "  </thead>\n",
       "  <tbody>\n",
       "    <tr>\n",
       "      <th>1515915625440099873</th>\n",
       "      <td>0</td>\n",
       "      <td>12.0</td>\n",
       "      <td>24</td>\n",
       "      <td>0</td>\n",
       "      <td>48</td>\n",
       "      <td>72</td>\n",
       "      <td>1</td>\n",
       "      <td>2</td>\n",
       "      <td>33216.0</td>\n",
       "      <td>16608.0</td>\n",
       "      <td>2</td>\n",
       "    </tr>\n",
       "    <tr>\n",
       "      <th>1515915625440939402</th>\n",
       "      <td>0</td>\n",
       "      <td>0.0</td>\n",
       "      <td>0</td>\n",
       "      <td>0</td>\n",
       "      <td>239</td>\n",
       "      <td>239</td>\n",
       "      <td>1</td>\n",
       "      <td>1</td>\n",
       "      <td>75998.0</td>\n",
       "      <td>75998.0</td>\n",
       "      <td>0</td>\n",
       "    </tr>\n",
       "    <tr>\n",
       "      <th>1515915625440944408</th>\n",
       "      <td>0</td>\n",
       "      <td>37.3</td>\n",
       "      <td>62</td>\n",
       "      <td>8</td>\n",
       "      <td>97</td>\n",
       "      <td>209</td>\n",
       "      <td>1</td>\n",
       "      <td>3</td>\n",
       "      <td>81178.0</td>\n",
       "      <td>27059.3</td>\n",
       "      <td>2</td>\n",
       "    </tr>\n",
       "    <tr>\n",
       "      <th>1515915625440947454</th>\n",
       "      <td>0</td>\n",
       "      <td>12.0</td>\n",
       "      <td>48</td>\n",
       "      <td>27</td>\n",
       "      <td>276</td>\n",
       "      <td>324</td>\n",
       "      <td>1</td>\n",
       "      <td>4</td>\n",
       "      <td>4486.0</td>\n",
       "      <td>1121.5</td>\n",
       "      <td>2</td>\n",
       "    </tr>\n",
       "    <tr>\n",
       "      <th>1515915625440952940</th>\n",
       "      <td>0</td>\n",
       "      <td>0.0</td>\n",
       "      <td>0</td>\n",
       "      <td>0</td>\n",
       "      <td>319</td>\n",
       "      <td>319</td>\n",
       "      <td>1</td>\n",
       "      <td>1</td>\n",
       "      <td>479.0</td>\n",
       "      <td>479.0</td>\n",
       "      <td>1</td>\n",
       "    </tr>\n",
       "  </tbody>\n",
       "</table>\n",
       "</div>"
      ],
      "text/plain": [
       "                     min_cons_dur  avg_cons_dur  max_cons_dur  avg_fluc  \\\n",
       "client_id                                                                 \n",
       "1515915625440099873             0          12.0            24         0   \n",
       "1515915625440939402             0           0.0             0         0   \n",
       "1515915625440944408             0          37.3            62         8   \n",
       "1515915625440947454             0          12.0            48        27   \n",
       "1515915625440952940             0           0.0             0         0   \n",
       "\n",
       "                     days_from_last  days_from_first  last_prod_am  \\\n",
       "client_id                                                            \n",
       "1515915625440099873              48               72             1   \n",
       "1515915625440939402             239              239             1   \n",
       "1515915625440944408              97              209             1   \n",
       "1515915625440947454             276              324             1   \n",
       "1515915625440952940             319              319             1   \n",
       "\n",
       "                     quantity_sum  sum_order_value  mean_order_value  cluster  \n",
       "client_id                                                                      \n",
       "1515915625440099873             2          33216.0           16608.0        2  \n",
       "1515915625440939402             1          75998.0           75998.0        0  \n",
       "1515915625440944408             3          81178.0           27059.3        2  \n",
       "1515915625440947454             4           4486.0            1121.5        2  \n",
       "1515915625440952940             1            479.0             479.0        1  "
      ]
     },
     "metadata": {},
     "output_type": "display_data"
    }
   ],
   "source": [
    "display(features_fix.head())"
   ]
  },
  {
   "cell_type": "code",
   "execution_count": 48,
   "id": "1d02653b",
   "metadata": {},
   "outputs": [
    {
     "data": {
      "text/html": [
       "<div>\n",
       "<style scoped>\n",
       "    .dataframe tbody tr th:only-of-type {\n",
       "        vertical-align: middle;\n",
       "    }\n",
       "\n",
       "    .dataframe tbody tr th {\n",
       "        vertical-align: top;\n",
       "    }\n",
       "\n",
       "    .dataframe thead th {\n",
       "        text-align: right;\n",
       "    }\n",
       "</style>\n",
       "<table border=\"1\" class=\"dataframe\">\n",
       "  <thead>\n",
       "    <tr style=\"text-align: right;\">\n",
       "      <th></th>\n",
       "      <th>client_id</th>\n",
       "      <th>min_cons_dur</th>\n",
       "      <th>avg_cons_dur</th>\n",
       "      <th>max_cons_dur</th>\n",
       "      <th>avg_fluc</th>\n",
       "      <th>days_from_last</th>\n",
       "      <th>days_from_first</th>\n",
       "      <th>last_prod_am</th>\n",
       "      <th>quantity_sum</th>\n",
       "      <th>sum_order_value</th>\n",
       "      <th>mean_order_value</th>\n",
       "      <th>cluster</th>\n",
       "    </tr>\n",
       "  </thead>\n",
       "  <tbody>\n",
       "    <tr>\n",
       "      <th>0</th>\n",
       "      <td>1515915625440099873</td>\n",
       "      <td>0</td>\n",
       "      <td>12.0</td>\n",
       "      <td>24</td>\n",
       "      <td>0</td>\n",
       "      <td>48</td>\n",
       "      <td>72</td>\n",
       "      <td>1</td>\n",
       "      <td>2</td>\n",
       "      <td>33216.0</td>\n",
       "      <td>16608.0</td>\n",
       "      <td>2</td>\n",
       "    </tr>\n",
       "    <tr>\n",
       "      <th>1</th>\n",
       "      <td>1515915625440939402</td>\n",
       "      <td>0</td>\n",
       "      <td>0.0</td>\n",
       "      <td>0</td>\n",
       "      <td>0</td>\n",
       "      <td>239</td>\n",
       "      <td>239</td>\n",
       "      <td>1</td>\n",
       "      <td>1</td>\n",
       "      <td>75998.0</td>\n",
       "      <td>75998.0</td>\n",
       "      <td>0</td>\n",
       "    </tr>\n",
       "    <tr>\n",
       "      <th>2</th>\n",
       "      <td>1515915625440944408</td>\n",
       "      <td>0</td>\n",
       "      <td>37.3</td>\n",
       "      <td>62</td>\n",
       "      <td>8</td>\n",
       "      <td>97</td>\n",
       "      <td>209</td>\n",
       "      <td>1</td>\n",
       "      <td>3</td>\n",
       "      <td>81178.0</td>\n",
       "      <td>27059.3</td>\n",
       "      <td>2</td>\n",
       "    </tr>\n",
       "    <tr>\n",
       "      <th>3</th>\n",
       "      <td>1515915625440947454</td>\n",
       "      <td>0</td>\n",
       "      <td>12.0</td>\n",
       "      <td>48</td>\n",
       "      <td>27</td>\n",
       "      <td>276</td>\n",
       "      <td>324</td>\n",
       "      <td>1</td>\n",
       "      <td>4</td>\n",
       "      <td>4486.0</td>\n",
       "      <td>1121.5</td>\n",
       "      <td>2</td>\n",
       "    </tr>\n",
       "    <tr>\n",
       "      <th>4</th>\n",
       "      <td>1515915625440952940</td>\n",
       "      <td>0</td>\n",
       "      <td>0.0</td>\n",
       "      <td>0</td>\n",
       "      <td>0</td>\n",
       "      <td>319</td>\n",
       "      <td>319</td>\n",
       "      <td>1</td>\n",
       "      <td>1</td>\n",
       "      <td>479.0</td>\n",
       "      <td>479.0</td>\n",
       "      <td>1</td>\n",
       "    </tr>\n",
       "  </tbody>\n",
       "</table>\n",
       "</div>"
      ],
      "text/plain": [
       "             client_id  min_cons_dur  avg_cons_dur  max_cons_dur  avg_fluc  \\\n",
       "0  1515915625440099873             0          12.0            24         0   \n",
       "1  1515915625440939402             0           0.0             0         0   \n",
       "2  1515915625440944408             0          37.3            62         8   \n",
       "3  1515915625440947454             0          12.0            48        27   \n",
       "4  1515915625440952940             0           0.0             0         0   \n",
       "\n",
       "   days_from_last  days_from_first  last_prod_am  quantity_sum  \\\n",
       "0              48               72             1             2   \n",
       "1             239              239             1             1   \n",
       "2              97              209             1             3   \n",
       "3             276              324             1             4   \n",
       "4             319              319             1             1   \n",
       "\n",
       "   sum_order_value  mean_order_value  cluster  \n",
       "0          33216.0           16608.0        2  \n",
       "1          75998.0           75998.0        0  \n",
       "2          81178.0           27059.3        2  \n",
       "3           4486.0            1121.5        2  \n",
       "4            479.0             479.0        1  "
      ]
     },
     "metadata": {},
     "output_type": "display_data"
    }
   ],
   "source": [
    "# features_fix.columns = ['_'.join(col) for col in features_fix]\n",
    "features_fix = features_fix.reset_index()\n",
    "display(features_fix.head())"
   ]
  },
  {
   "cell_type": "markdown",
   "id": "b27cd166",
   "metadata": {},
   "source": [
    "## Создание последовательных признаков"
   ]
  },
  {
   "cell_type": "markdown",
   "id": "28fa86bf",
   "metadata": {},
   "source": [
    "Используем Scaler для масштабирования признаков для последовательных признаков."
   ]
  },
  {
   "cell_type": "code",
   "execution_count": 49,
   "id": "326016b7",
   "metadata": {},
   "outputs": [],
   "source": [
    "scaler = MinMaxScaler(feature_range=(0, 1))"
   ]
  },
  {
   "cell_type": "markdown",
   "id": "3ba4d6e7",
   "metadata": {},
   "source": [
    "Применим масштабирования к признакам до агрегации."
   ]
  },
  {
   "cell_type": "code",
   "execution_count": 50,
   "id": "6fd7ddfd",
   "metadata": {},
   "outputs": [
    {
     "data": {
      "text/html": [
       "<div>\n",
       "<style scoped>\n",
       "    .dataframe tbody tr th:only-of-type {\n",
       "        vertical-align: middle;\n",
       "    }\n",
       "\n",
       "    .dataframe tbody tr th {\n",
       "        vertical-align: top;\n",
       "    }\n",
       "\n",
       "    .dataframe thead th {\n",
       "        text-align: right;\n",
       "    }\n",
       "</style>\n",
       "<table border=\"1\" class=\"dataframe\">\n",
       "  <thead>\n",
       "    <tr style=\"text-align: right;\">\n",
       "      <th></th>\n",
       "      <th>total_scaled</th>\n",
       "      <th>diff_days_scaled</th>\n",
       "      <th>last_order_scaled</th>\n",
       "    </tr>\n",
       "  </thead>\n",
       "  <tbody>\n",
       "    <tr>\n",
       "      <th>2644</th>\n",
       "      <td>0.023</td>\n",
       "      <td>0.000</td>\n",
       "      <td>0.213</td>\n",
       "    </tr>\n",
       "    <tr>\n",
       "      <th>25171</th>\n",
       "      <td>0.001</td>\n",
       "      <td>0.074</td>\n",
       "      <td>0.141</td>\n",
       "    </tr>\n",
       "    <tr>\n",
       "      <th>2396</th>\n",
       "      <td>0.054</td>\n",
       "      <td>0.000</td>\n",
       "      <td>0.713</td>\n",
       "    </tr>\n",
       "    <tr>\n",
       "      <th>434</th>\n",
       "      <td>0.001</td>\n",
       "      <td>0.000</td>\n",
       "      <td>0.623</td>\n",
       "    </tr>\n",
       "    <tr>\n",
       "      <th>0</th>\n",
       "      <td>0.004</td>\n",
       "      <td>0.191</td>\n",
       "      <td>0.437</td>\n",
       "    </tr>\n",
       "  </tbody>\n",
       "</table>\n",
       "</div>"
      ],
      "text/plain": [
       "       total_scaled  diff_days_scaled  last_order_scaled\n",
       "2644          0.023             0.000              0.213\n",
       "25171         0.001             0.074              0.141\n",
       "2396          0.054             0.000              0.713\n",
       "434           0.001             0.000              0.623\n",
       "0             0.004             0.191              0.437"
      ]
     },
     "metadata": {},
     "output_type": "display_data"
    }
   ],
   "source": [
    "fetures_to_scale = ['total', 'diff_days', 'last_order']\n",
    "scaled_names = [f'{col}_scaled' for col in fetures_to_scale]\n",
    "df_features[scaled_names] = scaler.fit_transform(df_features[fetures_to_scale]).round(3)\n",
    "display(df_features[scaled_names].head()) "
   ]
  },
  {
   "cell_type": "markdown",
   "id": "73da6f99",
   "metadata": {},
   "source": [
    "Агрегируем признаки в последовательный признак."
   ]
  },
  {
   "cell_type": "code",
   "execution_count": 51,
   "id": "8824ffa5",
   "metadata": {},
   "outputs": [
    {
     "data": {
      "text/html": [
       "<div>\n",
       "<style scoped>\n",
       "    .dataframe tbody tr th:only-of-type {\n",
       "        vertical-align: middle;\n",
       "    }\n",
       "\n",
       "    .dataframe tbody tr th {\n",
       "        vertical-align: top;\n",
       "    }\n",
       "\n",
       "    .dataframe thead th {\n",
       "        text-align: right;\n",
       "    }\n",
       "</style>\n",
       "<table border=\"1\" class=\"dataframe\">\n",
       "  <thead>\n",
       "    <tr style=\"text-align: right;\">\n",
       "      <th></th>\n",
       "      <th>client_id</th>\n",
       "      <th>total_scaled</th>\n",
       "      <th>diff_days_scaled</th>\n",
       "      <th>last_order_scaled</th>\n",
       "    </tr>\n",
       "  </thead>\n",
       "  <tbody>\n",
       "    <tr>\n",
       "      <th>0</th>\n",
       "      <td>1515915625440099873</td>\n",
       "      <td>[0.023, 0.001]</td>\n",
       "      <td>[0.0, 0.074]</td>\n",
       "      <td>[0.213, 0.141]</td>\n",
       "    </tr>\n",
       "    <tr>\n",
       "      <th>1</th>\n",
       "      <td>1515915625440939402</td>\n",
       "      <td>[0.054]</td>\n",
       "      <td>[0.0]</td>\n",
       "      <td>[0.713]</td>\n",
       "    </tr>\n",
       "    <tr>\n",
       "      <th>2</th>\n",
       "      <td>1515915625440944408</td>\n",
       "      <td>[0.001, 0.004, 0.053]</td>\n",
       "      <td>[0.0, 0.191, 0.154]</td>\n",
       "      <td>[0.623, 0.437, 0.287]</td>\n",
       "    </tr>\n",
       "    <tr>\n",
       "      <th>3</th>\n",
       "      <td>1515915625440947454</td>\n",
       "      <td>[0.0, 0.0, 0.0, 0.003]</td>\n",
       "      <td>[0.0, 0.0, 0.148, 0.0]</td>\n",
       "      <td>[0.967, 0.967, 0.823, 0.823]</td>\n",
       "    </tr>\n",
       "    <tr>\n",
       "      <th>4</th>\n",
       "      <td>1515915625440952940</td>\n",
       "      <td>[0.0]</td>\n",
       "      <td>[0.0]</td>\n",
       "      <td>[0.952]</td>\n",
       "    </tr>\n",
       "  </tbody>\n",
       "</table>\n",
       "</div>"
      ],
      "text/plain": [
       "             client_id            total_scaled        diff_days_scaled  \\\n",
       "0  1515915625440099873          [0.023, 0.001]            [0.0, 0.074]   \n",
       "1  1515915625440939402                 [0.054]                   [0.0]   \n",
       "2  1515915625440944408   [0.001, 0.004, 0.053]     [0.0, 0.191, 0.154]   \n",
       "3  1515915625440947454  [0.0, 0.0, 0.0, 0.003]  [0.0, 0.0, 0.148, 0.0]   \n",
       "4  1515915625440952940                   [0.0]                   [0.0]   \n",
       "\n",
       "              last_order_scaled  \n",
       "0                [0.213, 0.141]  \n",
       "1                       [0.713]  \n",
       "2         [0.623, 0.437, 0.287]  \n",
       "3  [0.967, 0.967, 0.823, 0.823]  \n",
       "4                       [0.952]  "
      ]
     },
     "metadata": {},
     "output_type": "display_data"
    }
   ],
   "source": [
    "features_seq = df_features.groupby('client_id')[scaled_names].agg(list).reset_index()\n",
    "display(features_seq.head())"
   ]
  },
  {
   "cell_type": "markdown",
   "id": "cdd8848a",
   "metadata": {},
   "source": [
    "## Создание и обучение модели."
   ]
  },
  {
   "cell_type": "markdown",
   "id": "8ce4bdc3",
   "metadata": {},
   "source": [
    "Преобразуем последовательные признаки в двухмерную матрицу. "
   ]
  },
  {
   "cell_type": "code",
   "execution_count": 52,
   "id": "0af790a1",
   "metadata": {},
   "outputs": [
    {
     "data": {
      "text/plain": [
       "(44619, 280, 3)"
      ]
     },
     "execution_count": 52,
     "metadata": {},
     "output_type": "execute_result"
    }
   ],
   "source": [
    "pad_sequence = lambda x: pad_sequences(\n",
    "    x.values, dtype=float, value=MASK_VALUE, padding=\"post\"\n",
    ")\n",
    "reshape = lambda x: x.reshape(x.shape+(1,))\n",
    "to_drop_names = ['client_id']\n",
    "X_seq = np.concatenate(\n",
    "    [\n",
    "        reshape(pad_sequence(features_seq[col]))\n",
    "        for col in features_seq.drop(to_drop_names, axis=1)\n",
    "    ],\n",
    "    axis=2,\n",
    ")\n",
    "\n",
    "X_seq.shape"
   ]
  },
  {
   "cell_type": "markdown",
   "id": "5b18636d",
   "metadata": {},
   "source": [
    "Масштабируем признаки покупателей в диапазон от 0 до 1."
   ]
  },
  {
   "cell_type": "code",
   "execution_count": 53,
   "id": "a064fb77",
   "metadata": {},
   "outputs": [
    {
     "data": {
      "text/plain": [
       "(44619, 11)"
      ]
     },
     "execution_count": 53,
     "metadata": {},
     "output_type": "execute_result"
    }
   ],
   "source": [
    "scaler_fix = MinMaxScaler(feature_range=(0,1))\n",
    "X_fix = scaler_fix.fit_transform(features_fix.drop('client_id', axis=1))\n",
    "X_fix.shape"
   ]
  },
  {
   "cell_type": "markdown",
   "id": "99590167",
   "metadata": {},
   "source": [
    "Создадим выборку с таргетом."
   ]
  },
  {
   "cell_type": "code",
   "execution_count": 54,
   "id": "33b714dc",
   "metadata": {},
   "outputs": [
    {
     "name": "stdout",
     "output_type": "stream",
     "text": [
      "0        0\n",
      "1        0\n",
      "2        0\n",
      "3        0\n",
      "4        0\n",
      "        ..\n",
      "44614    0\n",
      "44615    0\n",
      "44616    0\n",
      "44617    0\n",
      "44618    0\n",
      "Name: client_id, Length: 44619, dtype: int32\n"
     ]
    },
    {
     "data": {
      "text/html": [
       "<style  type=\"text/css\" >\n",
       "#T_26d05_row0_col0{\n",
       "            width:  10em;\n",
       "             height:  80%;\n",
       "            background:  linear-gradient(90deg,#d65f5f 100.0%, transparent 100.0%);\n",
       "        }#T_26d05_row1_col0{\n",
       "            width:  10em;\n",
       "             height:  80%;\n",
       "        }</style><table id=\"T_26d05_\" ><thead>    <tr>        <th class=\"blank level0\" ></th>        <th class=\"col_heading level0 col0\" >client_id</th>    </tr></thead><tbody>\n",
       "                <tr>\n",
       "                        <th id=\"T_26d05_level0_row0\" class=\"row_heading level0 row0\" >0</th>\n",
       "                        <td id=\"T_26d05_row0_col0\" class=\"data row0 col0\" >98.50%</td>\n",
       "            </tr>\n",
       "            <tr>\n",
       "                        <th id=\"T_26d05_level0_row1\" class=\"row_heading level0 row1\" >1</th>\n",
       "                        <td id=\"T_26d05_row1_col0\" class=\"data row1 col0\" >1.50%</td>\n",
       "            </tr>\n",
       "    </tbody></table>"
      ],
      "text/plain": [
       "<pandas.io.formats.style.Styler at 0x19bbc176d30>"
      ]
     },
     "metadata": {},
     "output_type": "display_data"
    },
    {
     "data": {
      "text/plain": [
       "(44619,)"
      ]
     },
     "execution_count": 54,
     "metadata": {},
     "output_type": "execute_result"
    }
   ],
   "source": [
    "y = features_seq['client_id'].isin(df_target).astype(int)\n",
    "print(y)\n",
    "display(y.value_counts(normalize=True).to_frame().style.format('{:.2%}'.format).bar())\n",
    "y = y.values\n",
    "y.shape"
   ]
  },
  {
   "cell_type": "markdown",
   "id": "4a633967",
   "metadata": {},
   "source": [
    "Разделим выборки на тренировочный и тестовые наборы."
   ]
  },
  {
   "cell_type": "code",
   "execution_count": 55,
   "id": "adeb1ec1",
   "metadata": {},
   "outputs": [],
   "source": [
    "X_train_seq, X_test_seq, X_train_fix, X_test_fix, y_train, y_test = train_test_split(\n",
    "    X_seq, X_fix, y, test_size=0.25, random_state=7\n",
    ")"
   ]
  },
  {
   "cell_type": "markdown",
   "id": "bdfc8dd8",
   "metadata": {},
   "source": [
    "Создадим входные наборы для модели LSTM."
   ]
  },
  {
   "cell_type": "code",
   "execution_count": 56,
   "id": "f138f5da",
   "metadata": {},
   "outputs": [
    {
     "name": "stdout",
     "output_type": "stream",
     "text": [
      "(None, 280, 3) (None, 11)\n"
     ]
    }
   ],
   "source": [
    "input_seq = Input(shape=X_train_seq.shape[1:])\n",
    "input_fix = Input(shape=X_train_fix.shape[1:])\n",
    "\n",
    "print(input_seq.shape, input_fix.shape)"
   ]
  },
  {
   "cell_type": "markdown",
   "id": "0232f638",
   "metadata": {},
   "source": [
    "Создадим модель LSTM."
   ]
  },
  {
   "cell_type": "code",
   "execution_count": 57,
   "id": "779da31f",
   "metadata": {},
   "outputs": [],
   "source": [
    "module_seq = Masking(mask_value=MASK_VALUE)(input_seq)\n",
    "module_seq = LSTM(16)(module_seq)\n",
    "\n",
    "module_fix = Dense(16, activation='relu')(input_fix)\n",
    "\n",
    "merged = Concatenate()([module_seq, module_fix])\n",
    "output = Dense(1, activation='sigmoid')(merged)\n",
    "\n",
    "model = Model(inputs=[input_seq, input_fix], outputs=output)\n",
    "model.compile(loss='binary_crossentropy', metrics=['auc'])"
   ]
  },
  {
   "cell_type": "markdown",
   "id": "c0c5d8a3",
   "metadata": {},
   "source": [
    "Визуализируем модель."
   ]
  },
  {
   "cell_type": "code",
   "execution_count": 58,
   "id": "2c3fa1f9",
   "metadata": {},
   "outputs": [
    {
     "data": {
      "image/png": "[encoded data removed]",
      "text/plain": [
       "<IPython.core.display.Image object>"
      ]
     },
     "execution_count": 58,
     "metadata": {},
     "output_type": "execute_result"
    }
   ],
   "source": [
    "plot_model(model, dpi=72, show_layer_activations=False, show_shapes=False, show_dtype=True)\n",
    "# printmodel.summary())"
   ]
  },
  {
   "cell_type": "markdown",
   "id": "280ee892",
   "metadata": {},
   "source": [
    "Обучим модель LSTM."
   ]
  },
  {
   "cell_type": "code",
   "execution_count": 59,
   "id": "c54f5694",
   "metadata": {},
   "outputs": [
    {
     "name": "stdout",
     "output_type": "stream",
     "text": [
      "Epoch 1/6\n",
      "\u001b[1m837/837\u001b[0m \u001b[32m━━━━━━━━━━━━━━━━━━━━\u001b[0m\u001b[37m\u001b[0m \u001b[1m94s\u001b[0m 109ms/step - auc: 0.5537 - loss: 0.2299 - val_auc: 0.7220 - val_loss: 0.0752\n",
      "Epoch 2/6\n",
      "\u001b[1m837/837\u001b[0m \u001b[32m━━━━━━━━━━━━━━━━━━━━\u001b[0m\u001b[37m\u001b[0m \u001b[1m90s\u001b[0m 107ms/step - auc: 0.7414 - loss: 0.0731 - val_auc: 0.7503 - val_loss: 0.0721\n",
      "Epoch 3/6\n",
      "\u001b[1m837/837\u001b[0m \u001b[32m━━━━━━━━━━━━━━━━━━━━\u001b[0m\u001b[37m\u001b[0m \u001b[1m101s\u001b[0m 121ms/step - auc: 0.7546 - loss: 0.0714 - val_auc: 0.7492 - val_loss: 0.0716\n",
      "Epoch 4/6\n",
      "\u001b[1m837/837\u001b[0m \u001b[32m━━━━━━━━━━━━━━━━━━━━\u001b[0m\u001b[37m\u001b[0m \u001b[1m86s\u001b[0m 102ms/step - auc: 0.7574 - loss: 0.0708 - val_auc: 0.7537 - val_loss: 0.0712\n",
      "Epoch 5/6\n",
      "\u001b[1m837/837\u001b[0m \u001b[32m━━━━━━━━━━━━━━━━━━━━\u001b[0m\u001b[37m\u001b[0m \u001b[1m96s\u001b[0m 114ms/step - auc: 0.7599 - loss: 0.0705 - val_auc: 0.7536 - val_loss: 0.0710\n",
      "Epoch 6/6\n",
      "\u001b[1m837/837\u001b[0m \u001b[32m━━━━━━━━━━━━━━━━━━━━\u001b[0m\u001b[37m\u001b[0m \u001b[1m84s\u001b[0m 101ms/step - auc: 0.7616 - loss: 0.0702 - val_auc: 0.7589 - val_loss: 0.0707\n"
     ]
    },
    {
     "data": {
      "text/plain": [
       "<keras.src.callbacks.history.History at 0x19bb7314820>"
      ]
     },
     "execution_count": 59,
     "metadata": {},
     "output_type": "execute_result"
    }
   ],
   "source": [
    "model.fit([X_train_seq, X_train_fix], y_train, validation_split=0.2, epochs=6, batch_size=32)"
   ]
  },
  {
   "cell_type": "markdown",
   "id": "314e11ec",
   "metadata": {},
   "source": [
    "## Тестирование модели."
   ]
  },
  {
   "cell_type": "markdown",
   "id": "7d5f4cb1",
   "metadata": {},
   "source": [
    "Протестируем нашу модель на тестовых выборках."
   ]
  },
  {
   "cell_type": "code",
   "execution_count": 60,
   "id": "c90eb5bb",
   "metadata": {},
   "outputs": [
    {
     "name": "stdout",
     "output_type": "stream",
     "text": [
      "\u001b[1m349/349\u001b[0m \u001b[32m━━━━━━━━━━━━━━━━━━━━\u001b[0m\u001b[37m\u001b[0m \u001b[1m9s\u001b[0m 26ms/step\n"
     ]
    },
    {
     "data": {
      "image/png": "[encoded data removed]",
      "text/plain": [
       "<Figure size 640x480 with 1 Axes>"
      ]
     },
     "metadata": {},
     "output_type": "display_data"
    },
    {
     "name": "stdout",
     "output_type": "stream",
     "text": [
      "roc auc score 0.759\n",
      "best threshold 0.016\n"
     ]
    },
    {
     "data": {
      "text/html": [
       "<div>\n",
       "<style scoped>\n",
       "    .dataframe tbody tr th:only-of-type {\n",
       "        vertical-align: middle;\n",
       "    }\n",
       "\n",
       "    .dataframe tbody tr th {\n",
       "        vertical-align: top;\n",
       "    }\n",
       "\n",
       "    .dataframe thead th {\n",
       "        text-align: right;\n",
       "    }\n",
       "</style>\n",
       "<table border=\"1\" class=\"dataframe\">\n",
       "  <thead>\n",
       "    <tr style=\"text-align: right;\">\n",
       "      <th></th>\n",
       "      <th>0</th>\n",
       "      <th>1</th>\n",
       "      <th>accuracy</th>\n",
       "      <th>macro avg</th>\n",
       "      <th>weighted avg</th>\n",
       "    </tr>\n",
       "  </thead>\n",
       "  <tbody>\n",
       "    <tr>\n",
       "      <th>precision</th>\n",
       "      <td>0.99</td>\n",
       "      <td>0.03</td>\n",
       "      <td>0.68</td>\n",
       "      <td>0.51</td>\n",
       "      <td>0.98</td>\n",
       "    </tr>\n",
       "    <tr>\n",
       "      <th>recall</th>\n",
       "      <td>0.68</td>\n",
       "      <td>0.72</td>\n",
       "      <td>0.68</td>\n",
       "      <td>0.70</td>\n",
       "      <td>0.68</td>\n",
       "    </tr>\n",
       "    <tr>\n",
       "      <th>f1-score</th>\n",
       "      <td>0.80</td>\n",
       "      <td>0.06</td>\n",
       "      <td>0.68</td>\n",
       "      <td>0.43</td>\n",
       "      <td>0.79</td>\n",
       "    </tr>\n",
       "    <tr>\n",
       "      <th>support</th>\n",
       "      <td>10995.00</td>\n",
       "      <td>160.00</td>\n",
       "      <td>0.68</td>\n",
       "      <td>11155.00</td>\n",
       "      <td>11155.00</td>\n",
       "    </tr>\n",
       "  </tbody>\n",
       "</table>\n",
       "</div>"
      ],
      "text/plain": [
       "                  0       1  accuracy  macro avg  weighted avg\n",
       "precision      0.99    0.03      0.68       0.51          0.98\n",
       "recall         0.68    0.72      0.68       0.70          0.68\n",
       "f1-score       0.80    0.06      0.68       0.43          0.79\n",
       "support    10995.00  160.00      0.68   11155.00      11155.00"
      ]
     },
     "execution_count": 60,
     "metadata": {},
     "output_type": "execute_result"
    }
   ],
   "source": [
    "y_pred = model.predict([X_test_seq, X_test_fix]).ravel()\n",
    "fpr, tpr, thresholds = roc_curve(y_test, y_pred)\n",
    "idx = np.argmax(tpr - fpr)\n",
    "best_thresh = thresholds[idx]\n",
    "\n",
    "plt.plot([0, 1], [0, 1], linestyle='--', label='base')\n",
    "plt.plot(fpr, tpr, marker='.', label='merged LSTM')\n",
    "plt.title('ROC curve')\n",
    "plt.scatter(fpr[idx], tpr[idx], marker='o', color='black', label='Best')\n",
    "plt.xlabel('False Positive Rate')\n",
    "plt.ylabel('True Positive Rate')\n",
    "plt.legend()\n",
    "plt.show()\n",
    "\n",
    "print('roc auc score', roc_auc_score(y_test, y_pred).round(3))\n",
    "print('best threshold', best_thresh.round(3))\n",
    "pd.DataFrame(classification_report(y_test, y_pred>(best_thresh), output_dict=True)).round(2)"
   ]
  },
  {
   "cell_type": "markdown",
   "id": "236b3b18",
   "metadata": {},
   "source": [
    "В виду того, что классы в данной работе значительно несбалансированы значение метрики precision и f1-score имеют низкое значение. В результате получили удовлетворительное значение основной метрики recall."
   ]
  },
  {
   "cell_type": "markdown",
   "id": "d9f89204",
   "metadata": {},
   "source": [
    "## Вывод и рекомендации по проделанной работе."
   ]
  },
  {
   "cell_type": "markdown",
   "id": "89552045",
   "metadata": {},
   "source": [
    "В данном проекте в качестве улучшения требуется рассмотреть возможность сбалансировать классы для более получения более точного результата. Также стоит рассмотреть возможность поиска новых признаков, как последовательных, так и признаков клиента."
   ]
  }
 ],
 "metadata": {
  "kernelspec": {
   "display_name": "Python 3 (ipykernel)",
   "language": "python",
   "name": "python3"
  },
  "language_info": {
   "codemirror_mode": {
    "name": "ipython",
    "version": 3
   },
   "file_extension": ".py",
   "mimetype": "text/x-python",
   "name": "python",
   "nbconvert_exporter": "python",
   "pygments_lexer": "ipython3",
   "version": "3.9.18"
  },
  "toc": {
   "base_numbering": 1,
   "nav_menu": {},
   "number_sections": true,
   "sideBar": true,
   "skip_h1_title": false,
   "title_cell": "Table of Contents",
   "title_sidebar": "Contents",
   "toc_cell": false,
   "toc_position": {
    "height": "calc(100% - 180px)",
    "left": "10px",
    "top": "150px",
    "width": "347.556px"
   },
   "toc_section_display": true,
   "toc_window_display": true
  }
 },
 "nbformat": 4,
 "nbformat_minor": 5
}
